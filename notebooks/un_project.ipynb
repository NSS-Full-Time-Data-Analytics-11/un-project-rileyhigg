{
 "cells": [
  {
   "cell_type": "code",
   "execution_count": 106,
   "id": "6a544a56",
   "metadata": {},
   "outputs": [],
   "source": [
    "import pandas as pd"
   ]
  },
  {
   "cell_type": "code",
   "execution_count": 107,
   "id": "4a5a2ebc",
   "metadata": {},
   "outputs": [],
   "source": [
    "import numpy as np"
   ]
  },
  {
   "cell_type": "code",
   "execution_count": 108,
   "id": "074e758d",
   "metadata": {},
   "outputs": [],
   "source": [
    "import matplotlib.pyplot as plt"
   ]
  },
  {
   "cell_type": "code",
   "execution_count": 109,
   "id": "8da45ff4",
   "metadata": {},
   "outputs": [],
   "source": [
    "import seaborn as sns"
   ]
  },
  {
   "cell_type": "code",
   "execution_count": 110,
   "id": "caef10e4",
   "metadata": {},
   "outputs": [],
   "source": [
    "gdp_df = pd.read_csv(\"../data/gdp_percapita.csv\")"
   ]
  },
  {
   "cell_type": "code",
   "execution_count": 111,
   "id": "cb9b05c5",
   "metadata": {},
   "outputs": [
    {
     "data": {
      "text/html": [
       "<div>\n",
       "<style scoped>\n",
       "    .dataframe tbody tr th:only-of-type {\n",
       "        vertical-align: middle;\n",
       "    }\n",
       "\n",
       "    .dataframe tbody tr th {\n",
       "        vertical-align: top;\n",
       "    }\n",
       "\n",
       "    .dataframe thead th {\n",
       "        text-align: right;\n",
       "    }\n",
       "</style>\n",
       "<table border=\"1\" class=\"dataframe\">\n",
       "  <thead>\n",
       "    <tr style=\"text-align: right;\">\n",
       "      <th></th>\n",
       "      <th>Country or Area</th>\n",
       "      <th>Year</th>\n",
       "      <th>Value</th>\n",
       "      <th>Value Footnotes</th>\n",
       "    </tr>\n",
       "  </thead>\n",
       "  <tbody>\n",
       "    <tr>\n",
       "      <th>0</th>\n",
       "      <td>Afghanistan</td>\n",
       "      <td>2020</td>\n",
       "      <td>1970.560169</td>\n",
       "      <td>NaN</td>\n",
       "    </tr>\n",
       "    <tr>\n",
       "      <th>1</th>\n",
       "      <td>Afghanistan</td>\n",
       "      <td>2019</td>\n",
       "      <td>2065.036235</td>\n",
       "      <td>NaN</td>\n",
       "    </tr>\n",
       "    <tr>\n",
       "      <th>2</th>\n",
       "      <td>Afghanistan</td>\n",
       "      <td>2018</td>\n",
       "      <td>2033.804389</td>\n",
       "      <td>NaN</td>\n",
       "    </tr>\n",
       "    <tr>\n",
       "      <th>3</th>\n",
       "      <td>Afghanistan</td>\n",
       "      <td>2017</td>\n",
       "      <td>2058.400221</td>\n",
       "      <td>NaN</td>\n",
       "    </tr>\n",
       "    <tr>\n",
       "      <th>4</th>\n",
       "      <td>Afghanistan</td>\n",
       "      <td>2016</td>\n",
       "      <td>2057.067978</td>\n",
       "      <td>NaN</td>\n",
       "    </tr>\n",
       "    <tr>\n",
       "      <th>...</th>\n",
       "      <td>...</td>\n",
       "      <td>...</td>\n",
       "      <td>...</td>\n",
       "      <td>...</td>\n",
       "    </tr>\n",
       "    <tr>\n",
       "      <th>7171</th>\n",
       "      <td>Zimbabwe</td>\n",
       "      <td>1994</td>\n",
       "      <td>2603.927369</td>\n",
       "      <td>NaN</td>\n",
       "    </tr>\n",
       "    <tr>\n",
       "      <th>7172</th>\n",
       "      <td>Zimbabwe</td>\n",
       "      <td>1993</td>\n",
       "      <td>2420.092791</td>\n",
       "      <td>NaN</td>\n",
       "    </tr>\n",
       "    <tr>\n",
       "      <th>7173</th>\n",
       "      <td>Zimbabwe</td>\n",
       "      <td>1992</td>\n",
       "      <td>2437.152908</td>\n",
       "      <td>NaN</td>\n",
       "    </tr>\n",
       "    <tr>\n",
       "      <th>7174</th>\n",
       "      <td>Zimbabwe</td>\n",
       "      <td>1991</td>\n",
       "      <td>2733.696626</td>\n",
       "      <td>NaN</td>\n",
       "    </tr>\n",
       "    <tr>\n",
       "      <th>7175</th>\n",
       "      <td>Zimbabwe</td>\n",
       "      <td>1990</td>\n",
       "      <td>2652.129209</td>\n",
       "      <td>NaN</td>\n",
       "    </tr>\n",
       "  </tbody>\n",
       "</table>\n",
       "<p>7176 rows × 4 columns</p>\n",
       "</div>"
      ],
      "text/plain": [
       "     Country or Area  Year        Value  Value Footnotes\n",
       "0        Afghanistan  2020  1970.560169              NaN\n",
       "1        Afghanistan  2019  2065.036235              NaN\n",
       "2        Afghanistan  2018  2033.804389              NaN\n",
       "3        Afghanistan  2017  2058.400221              NaN\n",
       "4        Afghanistan  2016  2057.067978              NaN\n",
       "...              ...   ...          ...              ...\n",
       "7171        Zimbabwe  1994  2603.927369              NaN\n",
       "7172        Zimbabwe  1993  2420.092791              NaN\n",
       "7173        Zimbabwe  1992  2437.152908              NaN\n",
       "7174        Zimbabwe  1991  2733.696626              NaN\n",
       "7175        Zimbabwe  1990  2652.129209              NaN\n",
       "\n",
       "[7176 rows x 4 columns]"
      ]
     },
     "execution_count": 111,
     "metadata": {},
     "output_type": "execute_result"
    }
   ],
   "source": [
    "gdp_df"
   ]
  },
  {
   "cell_type": "code",
   "execution_count": 112,
   "id": "f9db18eb",
   "metadata": {},
   "outputs": [
    {
     "data": {
      "text/plain": [
       "Country or Area     object\n",
       "Year                 int64\n",
       "Value              float64\n",
       "Value Footnotes    float64\n",
       "dtype: object"
      ]
     },
     "execution_count": 112,
     "metadata": {},
     "output_type": "execute_result"
    }
   ],
   "source": [
    "gdp_df.dtypes"
   ]
  },
  {
   "cell_type": "code",
   "execution_count": 113,
   "id": "a9559d87",
   "metadata": {},
   "outputs": [
    {
     "data": {
      "text/plain": [
       "Index(['Country or Area', 'Year', 'Value', 'Value Footnotes'], dtype='object')"
      ]
     },
     "execution_count": 113,
     "metadata": {},
     "output_type": "execute_result"
    }
   ],
   "source": [
    "gdp_df.columns"
   ]
  },
  {
   "cell_type": "code",
   "execution_count": 114,
   "id": "aba979be",
   "metadata": {},
   "outputs": [
    {
     "data": {
      "text/html": [
       "<div>\n",
       "<style scoped>\n",
       "    .dataframe tbody tr th:only-of-type {\n",
       "        vertical-align: middle;\n",
       "    }\n",
       "\n",
       "    .dataframe tbody tr th {\n",
       "        vertical-align: top;\n",
       "    }\n",
       "\n",
       "    .dataframe thead th {\n",
       "        text-align: right;\n",
       "    }\n",
       "</style>\n",
       "<table border=\"1\" class=\"dataframe\">\n",
       "  <thead>\n",
       "    <tr style=\"text-align: right;\">\n",
       "      <th></th>\n",
       "      <th>Country or Area</th>\n",
       "      <th>Year</th>\n",
       "      <th>Value</th>\n",
       "    </tr>\n",
       "  </thead>\n",
       "  <tbody>\n",
       "    <tr>\n",
       "      <th>0</th>\n",
       "      <td>Afghanistan</td>\n",
       "      <td>2020</td>\n",
       "      <td>1970.560169</td>\n",
       "    </tr>\n",
       "    <tr>\n",
       "      <th>1</th>\n",
       "      <td>Afghanistan</td>\n",
       "      <td>2019</td>\n",
       "      <td>2065.036235</td>\n",
       "    </tr>\n",
       "    <tr>\n",
       "      <th>2</th>\n",
       "      <td>Afghanistan</td>\n",
       "      <td>2018</td>\n",
       "      <td>2033.804389</td>\n",
       "    </tr>\n",
       "    <tr>\n",
       "      <th>3</th>\n",
       "      <td>Afghanistan</td>\n",
       "      <td>2017</td>\n",
       "      <td>2058.400221</td>\n",
       "    </tr>\n",
       "    <tr>\n",
       "      <th>4</th>\n",
       "      <td>Afghanistan</td>\n",
       "      <td>2016</td>\n",
       "      <td>2057.067978</td>\n",
       "    </tr>\n",
       "    <tr>\n",
       "      <th>...</th>\n",
       "      <td>...</td>\n",
       "      <td>...</td>\n",
       "      <td>...</td>\n",
       "    </tr>\n",
       "    <tr>\n",
       "      <th>7171</th>\n",
       "      <td>Zimbabwe</td>\n",
       "      <td>1994</td>\n",
       "      <td>2603.927369</td>\n",
       "    </tr>\n",
       "    <tr>\n",
       "      <th>7172</th>\n",
       "      <td>Zimbabwe</td>\n",
       "      <td>1993</td>\n",
       "      <td>2420.092791</td>\n",
       "    </tr>\n",
       "    <tr>\n",
       "      <th>7173</th>\n",
       "      <td>Zimbabwe</td>\n",
       "      <td>1992</td>\n",
       "      <td>2437.152908</td>\n",
       "    </tr>\n",
       "    <tr>\n",
       "      <th>7174</th>\n",
       "      <td>Zimbabwe</td>\n",
       "      <td>1991</td>\n",
       "      <td>2733.696626</td>\n",
       "    </tr>\n",
       "    <tr>\n",
       "      <th>7175</th>\n",
       "      <td>Zimbabwe</td>\n",
       "      <td>1990</td>\n",
       "      <td>2652.129209</td>\n",
       "    </tr>\n",
       "  </tbody>\n",
       "</table>\n",
       "<p>7176 rows × 3 columns</p>\n",
       "</div>"
      ],
      "text/plain": [
       "     Country or Area  Year        Value\n",
       "0        Afghanistan  2020  1970.560169\n",
       "1        Afghanistan  2019  2065.036235\n",
       "2        Afghanistan  2018  2033.804389\n",
       "3        Afghanistan  2017  2058.400221\n",
       "4        Afghanistan  2016  2057.067978\n",
       "...              ...   ...          ...\n",
       "7171        Zimbabwe  1994  2603.927369\n",
       "7172        Zimbabwe  1993  2420.092791\n",
       "7173        Zimbabwe  1992  2437.152908\n",
       "7174        Zimbabwe  1991  2733.696626\n",
       "7175        Zimbabwe  1990  2652.129209\n",
       "\n",
       "[7176 rows x 3 columns]"
      ]
     },
     "execution_count": 114,
     "metadata": {},
     "output_type": "execute_result"
    }
   ],
   "source": [
    "gdp_df.drop(columns=['Value Footnotes'])"
   ]
  },
  {
   "cell_type": "code",
   "execution_count": 115,
   "id": "15de1980",
   "metadata": {},
   "outputs": [],
   "source": [
    "gdp_df.rename(columns={'Country or Area':'Country', 'Value':'GDP_Per_Capita'},inplace=True),\n",
    "gdp_df1 = (gdp_df.drop(columns=['Value Footnotes']))"
   ]
  },
  {
   "cell_type": "code",
   "execution_count": 116,
   "id": "a73e797e",
   "metadata": {},
   "outputs": [
    {
     "data": {
      "text/html": [
       "<div>\n",
       "<style scoped>\n",
       "    .dataframe tbody tr th:only-of-type {\n",
       "        vertical-align: middle;\n",
       "    }\n",
       "\n",
       "    .dataframe tbody tr th {\n",
       "        vertical-align: top;\n",
       "    }\n",
       "\n",
       "    .dataframe thead th {\n",
       "        text-align: right;\n",
       "    }\n",
       "</style>\n",
       "<table border=\"1\" class=\"dataframe\">\n",
       "  <thead>\n",
       "    <tr style=\"text-align: right;\">\n",
       "      <th></th>\n",
       "      <th>Country</th>\n",
       "      <th>Year</th>\n",
       "      <th>GDP_Per_Capita</th>\n",
       "    </tr>\n",
       "  </thead>\n",
       "  <tbody>\n",
       "    <tr>\n",
       "      <th>0</th>\n",
       "      <td>Afghanistan</td>\n",
       "      <td>2020</td>\n",
       "      <td>1970.560169</td>\n",
       "    </tr>\n",
       "    <tr>\n",
       "      <th>1</th>\n",
       "      <td>Afghanistan</td>\n",
       "      <td>2019</td>\n",
       "      <td>2065.036235</td>\n",
       "    </tr>\n",
       "    <tr>\n",
       "      <th>2</th>\n",
       "      <td>Afghanistan</td>\n",
       "      <td>2018</td>\n",
       "      <td>2033.804389</td>\n",
       "    </tr>\n",
       "    <tr>\n",
       "      <th>3</th>\n",
       "      <td>Afghanistan</td>\n",
       "      <td>2017</td>\n",
       "      <td>2058.400221</td>\n",
       "    </tr>\n",
       "    <tr>\n",
       "      <th>4</th>\n",
       "      <td>Afghanistan</td>\n",
       "      <td>2016</td>\n",
       "      <td>2057.067978</td>\n",
       "    </tr>\n",
       "    <tr>\n",
       "      <th>...</th>\n",
       "      <td>...</td>\n",
       "      <td>...</td>\n",
       "      <td>...</td>\n",
       "    </tr>\n",
       "    <tr>\n",
       "      <th>7171</th>\n",
       "      <td>Zimbabwe</td>\n",
       "      <td>1994</td>\n",
       "      <td>2603.927369</td>\n",
       "    </tr>\n",
       "    <tr>\n",
       "      <th>7172</th>\n",
       "      <td>Zimbabwe</td>\n",
       "      <td>1993</td>\n",
       "      <td>2420.092791</td>\n",
       "    </tr>\n",
       "    <tr>\n",
       "      <th>7173</th>\n",
       "      <td>Zimbabwe</td>\n",
       "      <td>1992</td>\n",
       "      <td>2437.152908</td>\n",
       "    </tr>\n",
       "    <tr>\n",
       "      <th>7174</th>\n",
       "      <td>Zimbabwe</td>\n",
       "      <td>1991</td>\n",
       "      <td>2733.696626</td>\n",
       "    </tr>\n",
       "    <tr>\n",
       "      <th>7175</th>\n",
       "      <td>Zimbabwe</td>\n",
       "      <td>1990</td>\n",
       "      <td>2652.129209</td>\n",
       "    </tr>\n",
       "  </tbody>\n",
       "</table>\n",
       "<p>7176 rows × 3 columns</p>\n",
       "</div>"
      ],
      "text/plain": [
       "          Country  Year  GDP_Per_Capita\n",
       "0     Afghanistan  2020     1970.560169\n",
       "1     Afghanistan  2019     2065.036235\n",
       "2     Afghanistan  2018     2033.804389\n",
       "3     Afghanistan  2017     2058.400221\n",
       "4     Afghanistan  2016     2057.067978\n",
       "...           ...   ...             ...\n",
       "7171     Zimbabwe  1994     2603.927369\n",
       "7172     Zimbabwe  1993     2420.092791\n",
       "7173     Zimbabwe  1992     2437.152908\n",
       "7174     Zimbabwe  1991     2733.696626\n",
       "7175     Zimbabwe  1990     2652.129209\n",
       "\n",
       "[7176 rows x 3 columns]"
      ]
     },
     "execution_count": 116,
     "metadata": {},
     "output_type": "execute_result"
    }
   ],
   "source": [
    "gdp_df1"
   ]
  },
  {
   "cell_type": "code",
   "execution_count": 117,
   "id": "ce5119ff",
   "metadata": {},
   "outputs": [
    {
     "data": {
      "text/plain": [
       "Country\n",
       "Least developed countries: UN classification     True\n",
       "Niger                                            True\n",
       "Middle East & North Africa (IDA & IBRD)          True\n",
       "Middle income                                    True\n",
       "Mongolia                                         True\n",
       "                                                ...  \n",
       "Kosovo                                          False\n",
       "Turks and Caicos Islands                        False\n",
       "Sint Maarten (Dutch part)                       False\n",
       "Somalia                                         False\n",
       "Djibouti                                        False\n",
       "Name: count, Length: 242, dtype: bool"
      ]
     },
     "execution_count": 117,
     "metadata": {},
     "output_type": "execute_result"
    }
   ],
   "source": [
    "gdp_df1.Country.value_counts()==31"
   ]
  },
  {
   "cell_type": "code",
   "execution_count": 118,
   "id": "a44194b9",
   "metadata": {},
   "outputs": [
    {
     "data": {
      "text/plain": [
       "Country           7176\n",
       "Year              7176\n",
       "GDP_Per_Capita    7176\n",
       "dtype: int64"
      ]
     },
     "execution_count": 118,
     "metadata": {},
     "output_type": "execute_result"
    }
   ],
   "source": [
    "gdp_df1.count()"
   ]
  },
  {
   "cell_type": "code",
   "execution_count": 119,
   "id": "6fb4ff0a",
   "metadata": {},
   "outputs": [
    {
     "data": {
      "text/plain": [
       "Country\n",
       "Least developed countries: UN classification    31\n",
       "Niger                                           31\n",
       "Middle East & North Africa (IDA & IBRD)         31\n",
       "Middle income                                   31\n",
       "Mongolia                                        31\n",
       "                                                ..\n",
       "Kosovo                                          13\n",
       "Turks and Caicos Islands                        10\n",
       "Sint Maarten (Dutch part)                       10\n",
       "Somalia                                          8\n",
       "Djibouti                                         8\n",
       "Name: count, Length: 242, dtype: int64"
      ]
     },
     "execution_count": 119,
     "metadata": {},
     "output_type": "execute_result"
    }
   ],
   "source": [
    "gdp_df1.Country.value_counts()"
   ]
  },
  {
   "cell_type": "code",
   "execution_count": 120,
   "id": "7d62a706",
   "metadata": {},
   "outputs": [
    {
     "name": "stdout",
     "output_type": "stream",
     "text": [
      "Country\n",
      "Least developed countries: UN classification    31\n",
      "Niger                                           31\n",
      "Middle East & North Africa (IDA & IBRD)         31\n",
      "Middle income                                   31\n",
      "Mongolia                                        31\n",
      "                                                ..\n",
      "Kosovo                                          13\n",
      "Turks and Caicos Islands                        10\n",
      "Sint Maarten (Dutch part)                       10\n",
      "Somalia                                          8\n",
      "Djibouti                                         8\n",
      "Name: count, Length: 242, dtype: int64\n"
     ]
    }
   ],
   "source": [
    "gdp_count = (gdp_df1.Country.value_counts())\n",
    "print(gdp_count)"
   ]
  },
  {
   "cell_type": "code",
   "execution_count": 121,
   "id": "bf8b219c",
   "metadata": {},
   "outputs": [
    {
     "data": {
      "text/plain": [
       "pandas.core.series.Series"
      ]
     },
     "execution_count": 121,
     "metadata": {},
     "output_type": "execute_result"
    }
   ],
   "source": [
    "type(gdp_count)"
   ]
  },
  {
   "cell_type": "code",
   "execution_count": 122,
   "id": "1a59d578",
   "metadata": {},
   "outputs": [],
   "source": [
    "gdp_frame = gdp_count.to_frame()"
   ]
  },
  {
   "cell_type": "code",
   "execution_count": 123,
   "id": "cec65ba3",
   "metadata": {},
   "outputs": [],
   "source": [
    "gdp_frame = gdp_frame.reset_index()"
   ]
  },
  {
   "cell_type": "code",
   "execution_count": 124,
   "id": "d2787b02",
   "metadata": {},
   "outputs": [
    {
     "data": {
      "text/html": [
       "<div>\n",
       "<style scoped>\n",
       "    .dataframe tbody tr th:only-of-type {\n",
       "        vertical-align: middle;\n",
       "    }\n",
       "\n",
       "    .dataframe tbody tr th {\n",
       "        vertical-align: top;\n",
       "    }\n",
       "\n",
       "    .dataframe thead th {\n",
       "        text-align: right;\n",
       "    }\n",
       "</style>\n",
       "<table border=\"1\" class=\"dataframe\">\n",
       "  <thead>\n",
       "    <tr style=\"text-align: right;\">\n",
       "      <th></th>\n",
       "      <th>Country</th>\n",
       "      <th>count</th>\n",
       "    </tr>\n",
       "  </thead>\n",
       "  <tbody>\n",
       "    <tr>\n",
       "      <th>0</th>\n",
       "      <td>Least developed countries: UN classification</td>\n",
       "      <td>31</td>\n",
       "    </tr>\n",
       "    <tr>\n",
       "      <th>1</th>\n",
       "      <td>Niger</td>\n",
       "      <td>31</td>\n",
       "    </tr>\n",
       "    <tr>\n",
       "      <th>2</th>\n",
       "      <td>Middle East &amp; North Africa (IDA &amp; IBRD)</td>\n",
       "      <td>31</td>\n",
       "    </tr>\n",
       "    <tr>\n",
       "      <th>3</th>\n",
       "      <td>Middle income</td>\n",
       "      <td>31</td>\n",
       "    </tr>\n",
       "    <tr>\n",
       "      <th>4</th>\n",
       "      <td>Mongolia</td>\n",
       "      <td>31</td>\n",
       "    </tr>\n",
       "    <tr>\n",
       "      <th>...</th>\n",
       "      <td>...</td>\n",
       "      <td>...</td>\n",
       "    </tr>\n",
       "    <tr>\n",
       "      <th>237</th>\n",
       "      <td>Kosovo</td>\n",
       "      <td>13</td>\n",
       "    </tr>\n",
       "    <tr>\n",
       "      <th>238</th>\n",
       "      <td>Turks and Caicos Islands</td>\n",
       "      <td>10</td>\n",
       "    </tr>\n",
       "    <tr>\n",
       "      <th>239</th>\n",
       "      <td>Sint Maarten (Dutch part)</td>\n",
       "      <td>10</td>\n",
       "    </tr>\n",
       "    <tr>\n",
       "      <th>240</th>\n",
       "      <td>Somalia</td>\n",
       "      <td>8</td>\n",
       "    </tr>\n",
       "    <tr>\n",
       "      <th>241</th>\n",
       "      <td>Djibouti</td>\n",
       "      <td>8</td>\n",
       "    </tr>\n",
       "  </tbody>\n",
       "</table>\n",
       "<p>242 rows × 2 columns</p>\n",
       "</div>"
      ],
      "text/plain": [
       "                                          Country  count\n",
       "0    Least developed countries: UN classification     31\n",
       "1                                           Niger     31\n",
       "2         Middle East & North Africa (IDA & IBRD)     31\n",
       "3                                   Middle income     31\n",
       "4                                        Mongolia     31\n",
       "..                                            ...    ...\n",
       "237                                        Kosovo     13\n",
       "238                      Turks and Caicos Islands     10\n",
       "239                     Sint Maarten (Dutch part)     10\n",
       "240                                       Somalia      8\n",
       "241                                      Djibouti      8\n",
       "\n",
       "[242 rows x 2 columns]"
      ]
     },
     "execution_count": 124,
     "metadata": {},
     "output_type": "execute_result"
    }
   ],
   "source": [
    "gdp_frame"
   ]
  },
  {
   "cell_type": "code",
   "execution_count": 125,
   "id": "24146b96",
   "metadata": {},
   "outputs": [
    {
     "data": {
      "text/html": [
       "<div>\n",
       "<style scoped>\n",
       "    .dataframe tbody tr th:only-of-type {\n",
       "        vertical-align: middle;\n",
       "    }\n",
       "\n",
       "    .dataframe tbody tr th {\n",
       "        vertical-align: top;\n",
       "    }\n",
       "\n",
       "    .dataframe thead th {\n",
       "        text-align: right;\n",
       "    }\n",
       "</style>\n",
       "<table border=\"1\" class=\"dataframe\">\n",
       "  <thead>\n",
       "    <tr style=\"text-align: right;\">\n",
       "      <th></th>\n",
       "      <th>Country</th>\n",
       "      <th>count</th>\n",
       "    </tr>\n",
       "  </thead>\n",
       "  <tbody>\n",
       "    <tr>\n",
       "      <th>0</th>\n",
       "      <td>Least developed countries: UN classification</td>\n",
       "      <td>31</td>\n",
       "    </tr>\n",
       "    <tr>\n",
       "      <th>1</th>\n",
       "      <td>Niger</td>\n",
       "      <td>31</td>\n",
       "    </tr>\n",
       "    <tr>\n",
       "      <th>2</th>\n",
       "      <td>Middle East &amp; North Africa (IDA &amp; IBRD)</td>\n",
       "      <td>31</td>\n",
       "    </tr>\n",
       "    <tr>\n",
       "      <th>3</th>\n",
       "      <td>Middle income</td>\n",
       "      <td>31</td>\n",
       "    </tr>\n",
       "    <tr>\n",
       "      <th>4</th>\n",
       "      <td>Mongolia</td>\n",
       "      <td>31</td>\n",
       "    </tr>\n",
       "    <tr>\n",
       "      <th>...</th>\n",
       "      <td>...</td>\n",
       "      <td>...</td>\n",
       "    </tr>\n",
       "    <tr>\n",
       "      <th>200</th>\n",
       "      <td>IDA only</td>\n",
       "      <td>31</td>\n",
       "    </tr>\n",
       "    <tr>\n",
       "      <th>201</th>\n",
       "      <td>Fragile and conflict affected situations</td>\n",
       "      <td>31</td>\n",
       "    </tr>\n",
       "    <tr>\n",
       "      <th>202</th>\n",
       "      <td>Ireland</td>\n",
       "      <td>31</td>\n",
       "    </tr>\n",
       "    <tr>\n",
       "      <th>203</th>\n",
       "      <td>France</td>\n",
       "      <td>31</td>\n",
       "    </tr>\n",
       "    <tr>\n",
       "      <th>204</th>\n",
       "      <td>Italy</td>\n",
       "      <td>31</td>\n",
       "    </tr>\n",
       "  </tbody>\n",
       "</table>\n",
       "<p>205 rows × 2 columns</p>\n",
       "</div>"
      ],
      "text/plain": [
       "                                          Country  count\n",
       "0    Least developed countries: UN classification     31\n",
       "1                                           Niger     31\n",
       "2         Middle East & North Africa (IDA & IBRD)     31\n",
       "3                                   Middle income     31\n",
       "4                                        Mongolia     31\n",
       "..                                            ...    ...\n",
       "200                                      IDA only     31\n",
       "201      Fragile and conflict affected situations     31\n",
       "202                                       Ireland     31\n",
       "203                                        France     31\n",
       "204                                         Italy     31\n",
       "\n",
       "[205 rows x 2 columns]"
      ]
     },
     "execution_count": 125,
     "metadata": {},
     "output_type": "execute_result"
    }
   ],
   "source": [
    "gdp_frame.query('count == 31')"
   ]
  },
  {
   "cell_type": "code",
   "execution_count": 126,
   "id": "4b49fcc2",
   "metadata": {},
   "outputs": [
    {
     "data": {
      "text/plain": [
       "count\n",
       "True     205\n",
       "False     37\n",
       "Name: count, dtype: int64"
      ]
     },
     "execution_count": 126,
     "metadata": {},
     "output_type": "execute_result"
    }
   ],
   "source": [
    "gdp_frame.value_counts([gdp_frame['count'] == 31])"
   ]
  },
  {
   "cell_type": "code",
   "execution_count": 127,
   "id": "1893ce52",
   "metadata": {},
   "outputs": [
    {
     "data": {
      "text/plain": [
       "205"
      ]
     },
     "execution_count": 127,
     "metadata": {},
     "output_type": "execute_result"
    }
   ],
   "source": [
    "len(gdp_frame.query('count == 31'))"
   ]
  },
  {
   "cell_type": "markdown",
   "id": "88af36f0",
   "metadata": {},
   "source": [
    "###What was the median GDP per capita value in 2020?"
   ]
  },
  {
   "cell_type": "code",
   "execution_count": 128,
   "id": "5d888581",
   "metadata": {},
   "outputs": [
    {
     "data": {
      "text/html": [
       "<div>\n",
       "<style scoped>\n",
       "    .dataframe tbody tr th:only-of-type {\n",
       "        vertical-align: middle;\n",
       "    }\n",
       "\n",
       "    .dataframe tbody tr th {\n",
       "        vertical-align: top;\n",
       "    }\n",
       "\n",
       "    .dataframe thead th {\n",
       "        text-align: right;\n",
       "    }\n",
       "</style>\n",
       "<table border=\"1\" class=\"dataframe\">\n",
       "  <thead>\n",
       "    <tr style=\"text-align: right;\">\n",
       "      <th></th>\n",
       "      <th>Country</th>\n",
       "      <th>Year</th>\n",
       "      <th>GDP_Per_Capita</th>\n",
       "    </tr>\n",
       "  </thead>\n",
       "  <tbody>\n",
       "    <tr>\n",
       "      <th>0</th>\n",
       "      <td>Afghanistan</td>\n",
       "      <td>2020</td>\n",
       "      <td>1970.560169</td>\n",
       "    </tr>\n",
       "    <tr>\n",
       "      <th>19</th>\n",
       "      <td>Africa Eastern and Southern</td>\n",
       "      <td>2020</td>\n",
       "      <td>3491.978104</td>\n",
       "    </tr>\n",
       "    <tr>\n",
       "      <th>50</th>\n",
       "      <td>Africa Western and Central</td>\n",
       "      <td>2020</td>\n",
       "      <td>4021.293919</td>\n",
       "    </tr>\n",
       "    <tr>\n",
       "      <th>81</th>\n",
       "      <td>Albania</td>\n",
       "      <td>2020</td>\n",
       "      <td>13253.733337</td>\n",
       "    </tr>\n",
       "    <tr>\n",
       "      <th>112</th>\n",
       "      <td>Algeria</td>\n",
       "      <td>2020</td>\n",
       "      <td>10735.382539</td>\n",
       "    </tr>\n",
       "    <tr>\n",
       "      <th>...</th>\n",
       "      <td>...</td>\n",
       "      <td>...</td>\n",
       "      <td>...</td>\n",
       "    </tr>\n",
       "    <tr>\n",
       "      <th>7025</th>\n",
       "      <td>Vietnam</td>\n",
       "      <td>2020</td>\n",
       "      <td>10338.270543</td>\n",
       "    </tr>\n",
       "    <tr>\n",
       "      <th>7056</th>\n",
       "      <td>West Bank and Gaza</td>\n",
       "      <td>2020</td>\n",
       "      <td>5402.538773</td>\n",
       "    </tr>\n",
       "    <tr>\n",
       "      <th>7083</th>\n",
       "      <td>World</td>\n",
       "      <td>2020</td>\n",
       "      <td>16269.969854</td>\n",
       "    </tr>\n",
       "    <tr>\n",
       "      <th>7114</th>\n",
       "      <td>Zambia</td>\n",
       "      <td>2020</td>\n",
       "      <td>3277.816510</td>\n",
       "    </tr>\n",
       "    <tr>\n",
       "      <th>7145</th>\n",
       "      <td>Zimbabwe</td>\n",
       "      <td>2020</td>\n",
       "      <td>2134.555461</td>\n",
       "    </tr>\n",
       "  </tbody>\n",
       "</table>\n",
       "<p>240 rows × 3 columns</p>\n",
       "</div>"
      ],
      "text/plain": [
       "                          Country  Year  GDP_Per_Capita\n",
       "0                     Afghanistan  2020     1970.560169\n",
       "19    Africa Eastern and Southern  2020     3491.978104\n",
       "50     Africa Western and Central  2020     4021.293919\n",
       "81                        Albania  2020    13253.733337\n",
       "112                       Algeria  2020    10735.382539\n",
       "...                           ...   ...             ...\n",
       "7025                      Vietnam  2020    10338.270543\n",
       "7056           West Bank and Gaza  2020     5402.538773\n",
       "7083                        World  2020    16269.969854\n",
       "7114                       Zambia  2020     3277.816510\n",
       "7145                     Zimbabwe  2020     2134.555461\n",
       "\n",
       "[240 rows x 3 columns]"
      ]
     },
     "execution_count": 128,
     "metadata": {},
     "output_type": "execute_result"
    }
   ],
   "source": [
    "gdp_df1.query('Year == 2020')"
   ]
  },
  {
   "cell_type": "code",
   "execution_count": 129,
   "id": "b368d8f1",
   "metadata": {},
   "outputs": [],
   "source": [
    "gdp2020 = gdp_df1.query('Year == 2020')"
   ]
  },
  {
   "cell_type": "code",
   "execution_count": 130,
   "id": "6fd9e71f",
   "metadata": {},
   "outputs": [
    {
     "data": {
      "text/plain": [
       "12908.9374056206"
      ]
     },
     "execution_count": 130,
     "metadata": {},
     "output_type": "execute_result"
    }
   ],
   "source": [
    "gdp2020['GDP_Per_Capita'].median()"
   ]
  },
  {
   "cell_type": "code",
   "execution_count": 131,
   "id": "1023b22e",
   "metadata": {},
   "outputs": [
    {
     "data": {
      "text/html": [
       "<div>\n",
       "<style scoped>\n",
       "    .dataframe tbody tr th:only-of-type {\n",
       "        vertical-align: middle;\n",
       "    }\n",
       "\n",
       "    .dataframe tbody tr th {\n",
       "        vertical-align: top;\n",
       "    }\n",
       "\n",
       "    .dataframe thead th {\n",
       "        text-align: right;\n",
       "    }\n",
       "</style>\n",
       "<table border=\"1\" class=\"dataframe\">\n",
       "  <thead>\n",
       "    <tr style=\"text-align: right;\">\n",
       "      <th></th>\n",
       "      <th>Country</th>\n",
       "      <th>Year</th>\n",
       "      <th>GDP_Per_Capita</th>\n",
       "    </tr>\n",
       "  </thead>\n",
       "  <tbody>\n",
       "    <tr>\n",
       "      <th>0</th>\n",
       "      <td>Afghanistan</td>\n",
       "      <td>2020</td>\n",
       "      <td>1970.560169</td>\n",
       "    </tr>\n",
       "    <tr>\n",
       "      <th>1</th>\n",
       "      <td>Afghanistan</td>\n",
       "      <td>2019</td>\n",
       "      <td>2065.036235</td>\n",
       "    </tr>\n",
       "    <tr>\n",
       "      <th>2</th>\n",
       "      <td>Afghanistan</td>\n",
       "      <td>2018</td>\n",
       "      <td>2033.804389</td>\n",
       "    </tr>\n",
       "    <tr>\n",
       "      <th>3</th>\n",
       "      <td>Afghanistan</td>\n",
       "      <td>2017</td>\n",
       "      <td>2058.400221</td>\n",
       "    </tr>\n",
       "    <tr>\n",
       "      <th>4</th>\n",
       "      <td>Afghanistan</td>\n",
       "      <td>2016</td>\n",
       "      <td>2057.067978</td>\n",
       "    </tr>\n",
       "    <tr>\n",
       "      <th>...</th>\n",
       "      <td>...</td>\n",
       "      <td>...</td>\n",
       "      <td>...</td>\n",
       "    </tr>\n",
       "    <tr>\n",
       "      <th>7171</th>\n",
       "      <td>Zimbabwe</td>\n",
       "      <td>1994</td>\n",
       "      <td>2603.927369</td>\n",
       "    </tr>\n",
       "    <tr>\n",
       "      <th>7172</th>\n",
       "      <td>Zimbabwe</td>\n",
       "      <td>1993</td>\n",
       "      <td>2420.092791</td>\n",
       "    </tr>\n",
       "    <tr>\n",
       "      <th>7173</th>\n",
       "      <td>Zimbabwe</td>\n",
       "      <td>1992</td>\n",
       "      <td>2437.152908</td>\n",
       "    </tr>\n",
       "    <tr>\n",
       "      <th>7174</th>\n",
       "      <td>Zimbabwe</td>\n",
       "      <td>1991</td>\n",
       "      <td>2733.696626</td>\n",
       "    </tr>\n",
       "    <tr>\n",
       "      <th>7175</th>\n",
       "      <td>Zimbabwe</td>\n",
       "      <td>1990</td>\n",
       "      <td>2652.129209</td>\n",
       "    </tr>\n",
       "  </tbody>\n",
       "</table>\n",
       "<p>7176 rows × 3 columns</p>\n",
       "</div>"
      ],
      "text/plain": [
       "          Country  Year  GDP_Per_Capita\n",
       "0     Afghanistan  2020     1970.560169\n",
       "1     Afghanistan  2019     2065.036235\n",
       "2     Afghanistan  2018     2033.804389\n",
       "3     Afghanistan  2017     2058.400221\n",
       "4     Afghanistan  2016     2057.067978\n",
       "...           ...   ...             ...\n",
       "7171     Zimbabwe  1994     2603.927369\n",
       "7172     Zimbabwe  1993     2420.092791\n",
       "7173     Zimbabwe  1992     2437.152908\n",
       "7174     Zimbabwe  1991     2733.696626\n",
       "7175     Zimbabwe  1990     2652.129209\n",
       "\n",
       "[7176 rows x 3 columns]"
      ]
     },
     "execution_count": 131,
     "metadata": {},
     "output_type": "execute_result"
    }
   ],
   "source": [
    "gdp_df1"
   ]
  },
  {
   "cell_type": "code",
   "execution_count": 132,
   "id": "fe3b7107",
   "metadata": {},
   "outputs": [],
   "source": [
    "gdp1990 = gdp_df1.query('Year == 1990')"
   ]
  },
  {
   "cell_type": "code",
   "execution_count": 133,
   "id": "b12d3cc3",
   "metadata": {},
   "outputs": [],
   "source": [
    "gdp2000 = gdp_df1.query('Year == 2000')"
   ]
  },
  {
   "cell_type": "code",
   "execution_count": 134,
   "id": "aa21b5fb",
   "metadata": {},
   "outputs": [],
   "source": [
    "gdp2010 = gdp_df1.query('Year == 2010')"
   ]
  },
  {
   "cell_type": "code",
   "execution_count": 135,
   "id": "b3340af2",
   "metadata": {},
   "outputs": [],
   "source": [
    "gdp_decades = (gdp_df1.loc[(gdp_df.Year == 1990) | (gdp_df.Year == 2000) | (gdp_df.Year == 2010) | (gdp_df.Year == 2020)])"
   ]
  },
  {
   "cell_type": "code",
   "execution_count": 136,
   "id": "8f41363d",
   "metadata": {},
   "outputs": [
    {
     "data": {
      "text/html": [
       "<div>\n",
       "<style scoped>\n",
       "    .dataframe tbody tr th:only-of-type {\n",
       "        vertical-align: middle;\n",
       "    }\n",
       "\n",
       "    .dataframe tbody tr th {\n",
       "        vertical-align: top;\n",
       "    }\n",
       "\n",
       "    .dataframe thead th {\n",
       "        text-align: right;\n",
       "    }\n",
       "</style>\n",
       "<table border=\"1\" class=\"dataframe\">\n",
       "  <thead>\n",
       "    <tr style=\"text-align: right;\">\n",
       "      <th></th>\n",
       "      <th>Country</th>\n",
       "      <th>Year</th>\n",
       "      <th>GDP_Per_Capita</th>\n",
       "    </tr>\n",
       "  </thead>\n",
       "  <tbody>\n",
       "    <tr>\n",
       "      <th>0</th>\n",
       "      <td>Afghanistan</td>\n",
       "      <td>2020</td>\n",
       "      <td>1970.560169</td>\n",
       "    </tr>\n",
       "    <tr>\n",
       "      <th>10</th>\n",
       "      <td>Afghanistan</td>\n",
       "      <td>2010</td>\n",
       "      <td>1957.029070</td>\n",
       "    </tr>\n",
       "    <tr>\n",
       "      <th>19</th>\n",
       "      <td>Africa Eastern and Southern</td>\n",
       "      <td>2020</td>\n",
       "      <td>3491.978104</td>\n",
       "    </tr>\n",
       "    <tr>\n",
       "      <th>29</th>\n",
       "      <td>Africa Eastern and Southern</td>\n",
       "      <td>2010</td>\n",
       "      <td>3545.205203</td>\n",
       "    </tr>\n",
       "    <tr>\n",
       "      <th>39</th>\n",
       "      <td>Africa Eastern and Southern</td>\n",
       "      <td>2000</td>\n",
       "      <td>2915.472987</td>\n",
       "    </tr>\n",
       "    <tr>\n",
       "      <th>...</th>\n",
       "      <td>...</td>\n",
       "      <td>...</td>\n",
       "      <td>...</td>\n",
       "    </tr>\n",
       "    <tr>\n",
       "      <th>7144</th>\n",
       "      <td>Zambia</td>\n",
       "      <td>1990</td>\n",
       "      <td>2190.181724</td>\n",
       "    </tr>\n",
       "    <tr>\n",
       "      <th>7145</th>\n",
       "      <td>Zimbabwe</td>\n",
       "      <td>2020</td>\n",
       "      <td>2134.555461</td>\n",
       "    </tr>\n",
       "    <tr>\n",
       "      <th>7155</th>\n",
       "      <td>Zimbabwe</td>\n",
       "      <td>2010</td>\n",
       "      <td>1813.531764</td>\n",
       "    </tr>\n",
       "    <tr>\n",
       "      <th>7165</th>\n",
       "      <td>Zimbabwe</td>\n",
       "      <td>2000</td>\n",
       "      <td>2771.060576</td>\n",
       "    </tr>\n",
       "    <tr>\n",
       "      <th>7175</th>\n",
       "      <td>Zimbabwe</td>\n",
       "      <td>1990</td>\n",
       "      <td>2652.129209</td>\n",
       "    </tr>\n",
       "  </tbody>\n",
       "</table>\n",
       "<p>918 rows × 3 columns</p>\n",
       "</div>"
      ],
      "text/plain": [
       "                          Country  Year  GDP_Per_Capita\n",
       "0                     Afghanistan  2020     1970.560169\n",
       "10                    Afghanistan  2010     1957.029070\n",
       "19    Africa Eastern and Southern  2020     3491.978104\n",
       "29    Africa Eastern and Southern  2010     3545.205203\n",
       "39    Africa Eastern and Southern  2000     2915.472987\n",
       "...                           ...   ...             ...\n",
       "7144                       Zambia  1990     2190.181724\n",
       "7145                     Zimbabwe  2020     2134.555461\n",
       "7155                     Zimbabwe  2010     1813.531764\n",
       "7165                     Zimbabwe  2000     2771.060576\n",
       "7175                     Zimbabwe  1990     2652.129209\n",
       "\n",
       "[918 rows x 3 columns]"
      ]
     },
     "execution_count": 136,
     "metadata": {},
     "output_type": "execute_result"
    }
   ],
   "source": [
    "gdp_decades"
   ]
  },
  {
   "cell_type": "code",
   "execution_count": 137,
   "id": "613b3724",
   "metadata": {},
   "outputs": [
    {
     "data": {
      "text/plain": [
       "<Axes: >"
      ]
     },
     "execution_count": 137,
     "metadata": {},
     "output_type": "execute_result"
    },
    {
     "data": {
      "image/png": "[encoded data removed]",
      "text/plain": [
       "<Figure size 640x480 with 1 Axes>"
      ]
     },
     "metadata": {},
     "output_type": "display_data"
    }
   ],
   "source": [
    "sns.boxplot(gdp_decades)"
   ]
  },
  {
   "cell_type": "code",
   "execution_count": 138,
   "id": "01851541",
   "metadata": {},
   "outputs": [
    {
     "data": {
      "text/plain": [
       "<Axes: >"
      ]
     },
     "execution_count": 138,
     "metadata": {},
     "output_type": "execute_result"
    },
    {
     "data": {
      "image/png": "[encoded data removed]",
      "text/plain": [
       "<Figure size 640x480 with 1 Axes>"
      ]
     },
     "metadata": {},
     "output_type": "display_data"
    }
   ],
   "source": [
    "sns.barplot(gdp_decades)"
   ]
  },
  {
   "cell_type": "code",
   "execution_count": 139,
   "id": "adac81b3",
   "metadata": {},
   "outputs": [
    {
     "data": {
      "text/plain": [
       "<Axes: xlabel='Year', ylabel='GDP_Per_Capita'>"
      ]
     },
     "execution_count": 139,
     "metadata": {},
     "output_type": "execute_result"
    },
    {
     "data": {
      "image/png": "[encoded data removed]",
      "text/plain": [
       "<Figure size 640x480 with 1 Axes>"
      ]
     },
     "metadata": {},
     "output_type": "display_data"
    }
   ],
   "source": [
    "gdp_decades.plot.scatter(x = 'Year', y = 'GDP_Per_Capita')"
   ]
  },
  {
   "cell_type": "code",
   "execution_count": 140,
   "id": "fd7e3fad",
   "metadata": {
    "scrolled": true
   },
   "outputs": [
    {
     "data": {
      "text/plain": [
       "<Axes: xlabel='Year', ylabel='GDP_Per_Capita'>"
      ]
     },
     "execution_count": 140,
     "metadata": {},
     "output_type": "execute_result"
    },
    {
     "data": {
      "image/png": "[encoded data removed]",
      "text/plain": [
       "<Figure size 640x480 with 1 Axes>"
      ]
     },
     "metadata": {},
     "output_type": "display_data"
    }
   ],
   "source": [
    "sns.scatterplot(data = gdp_decades, x = 'Year', y = 'GDP_Per_Capita')"
   ]
  },
  {
   "cell_type": "code",
   "execution_count": 141,
   "id": "7c77e800",
   "metadata": {},
   "outputs": [
    {
     "data": {
      "text/plain": [
       "<Axes: xlabel='Year', ylabel='GDP_Per_Capita'>"
      ]
     },
     "execution_count": 141,
     "metadata": {},
     "output_type": "execute_result"
    },
    {
     "data": {
      "image/png": "[encoded data removed]",
      "text/plain": [
       "<Figure size 640x480 with 1 Axes>"
      ]
     },
     "metadata": {},
     "output_type": "display_data"
    }
   ],
   "source": [
    "sns.regplot(data = gdp_decades, x = 'Year', y = 'GDP_Per_Capita')"
   ]
  },
  {
   "cell_type": "markdown",
   "id": "61732be5",
   "metadata": {},
   "source": [
    "#11. Which country was the first to have a GDP per capita greater than $100,000?"
   ]
  },
  {
   "cell_type": "code",
   "execution_count": 142,
   "id": "57423256",
   "metadata": {},
   "outputs": [
    {
     "data": {
      "text/html": [
       "<div>\n",
       "<style scoped>\n",
       "    .dataframe tbody tr th:only-of-type {\n",
       "        vertical-align: middle;\n",
       "    }\n",
       "\n",
       "    .dataframe tbody tr th {\n",
       "        vertical-align: top;\n",
       "    }\n",
       "\n",
       "    .dataframe thead th {\n",
       "        text-align: right;\n",
       "    }\n",
       "</style>\n",
       "<table border=\"1\" class=\"dataframe\">\n",
       "  <thead>\n",
       "    <tr style=\"text-align: right;\">\n",
       "      <th></th>\n",
       "      <th>Country</th>\n",
       "      <th>Year</th>\n",
       "      <th>GDP_Per_Capita</th>\n",
       "    </tr>\n",
       "  </thead>\n",
       "  <tbody>\n",
       "    <tr>\n",
       "      <th>0</th>\n",
       "      <td>Afghanistan</td>\n",
       "      <td>2020</td>\n",
       "      <td>1970.560169</td>\n",
       "    </tr>\n",
       "    <tr>\n",
       "      <th>1</th>\n",
       "      <td>Afghanistan</td>\n",
       "      <td>2019</td>\n",
       "      <td>2065.036235</td>\n",
       "    </tr>\n",
       "    <tr>\n",
       "      <th>2</th>\n",
       "      <td>Afghanistan</td>\n",
       "      <td>2018</td>\n",
       "      <td>2033.804389</td>\n",
       "    </tr>\n",
       "    <tr>\n",
       "      <th>3</th>\n",
       "      <td>Afghanistan</td>\n",
       "      <td>2017</td>\n",
       "      <td>2058.400221</td>\n",
       "    </tr>\n",
       "    <tr>\n",
       "      <th>4</th>\n",
       "      <td>Afghanistan</td>\n",
       "      <td>2016</td>\n",
       "      <td>2057.067978</td>\n",
       "    </tr>\n",
       "    <tr>\n",
       "      <th>...</th>\n",
       "      <td>...</td>\n",
       "      <td>...</td>\n",
       "      <td>...</td>\n",
       "    </tr>\n",
       "    <tr>\n",
       "      <th>7171</th>\n",
       "      <td>Zimbabwe</td>\n",
       "      <td>1994</td>\n",
       "      <td>2603.927369</td>\n",
       "    </tr>\n",
       "    <tr>\n",
       "      <th>7172</th>\n",
       "      <td>Zimbabwe</td>\n",
       "      <td>1993</td>\n",
       "      <td>2420.092791</td>\n",
       "    </tr>\n",
       "    <tr>\n",
       "      <th>7173</th>\n",
       "      <td>Zimbabwe</td>\n",
       "      <td>1992</td>\n",
       "      <td>2437.152908</td>\n",
       "    </tr>\n",
       "    <tr>\n",
       "      <th>7174</th>\n",
       "      <td>Zimbabwe</td>\n",
       "      <td>1991</td>\n",
       "      <td>2733.696626</td>\n",
       "    </tr>\n",
       "    <tr>\n",
       "      <th>7175</th>\n",
       "      <td>Zimbabwe</td>\n",
       "      <td>1990</td>\n",
       "      <td>2652.129209</td>\n",
       "    </tr>\n",
       "  </tbody>\n",
       "</table>\n",
       "<p>7176 rows × 3 columns</p>\n",
       "</div>"
      ],
      "text/plain": [
       "          Country  Year  GDP_Per_Capita\n",
       "0     Afghanistan  2020     1970.560169\n",
       "1     Afghanistan  2019     2065.036235\n",
       "2     Afghanistan  2018     2033.804389\n",
       "3     Afghanistan  2017     2058.400221\n",
       "4     Afghanistan  2016     2057.067978\n",
       "...           ...   ...             ...\n",
       "7171     Zimbabwe  1994     2603.927369\n",
       "7172     Zimbabwe  1993     2420.092791\n",
       "7173     Zimbabwe  1992     2437.152908\n",
       "7174     Zimbabwe  1991     2733.696626\n",
       "7175     Zimbabwe  1990     2652.129209\n",
       "\n",
       "[7176 rows x 3 columns]"
      ]
     },
     "execution_count": 142,
     "metadata": {},
     "output_type": "execute_result"
    }
   ],
   "source": [
    "gdp_df1"
   ]
  },
  {
   "cell_type": "code",
   "execution_count": 143,
   "id": "ff3cd09b",
   "metadata": {},
   "outputs": [
    {
     "data": {
      "text/plain": [
       "Country            object\n",
       "Year                int64\n",
       "GDP_Per_Capita    float64\n",
       "dtype: object"
      ]
     },
     "execution_count": 143,
     "metadata": {},
     "output_type": "execute_result"
    }
   ],
   "source": [
    "gdp_df1.dtypes"
   ]
  },
  {
   "cell_type": "code",
   "execution_count": 144,
   "id": "7ef645cc",
   "metadata": {},
   "outputs": [
    {
     "data": {
      "text/html": [
       "<div>\n",
       "<style scoped>\n",
       "    .dataframe tbody tr th:only-of-type {\n",
       "        vertical-align: middle;\n",
       "    }\n",
       "\n",
       "    .dataframe tbody tr th {\n",
       "        vertical-align: top;\n",
       "    }\n",
       "\n",
       "    .dataframe thead th {\n",
       "        text-align: right;\n",
       "    }\n",
       "</style>\n",
       "<table border=\"1\" class=\"dataframe\">\n",
       "  <thead>\n",
       "    <tr style=\"text-align: right;\">\n",
       "      <th></th>\n",
       "      <th>Country</th>\n",
       "      <th>Year</th>\n",
       "      <th>GDP_Per_Capita</th>\n",
       "    </tr>\n",
       "  </thead>\n",
       "  <tbody>\n",
       "    <tr>\n",
       "      <th>0</th>\n",
       "      <td>Afghanistan</td>\n",
       "      <td>2020</td>\n",
       "      <td>1970.560169</td>\n",
       "    </tr>\n",
       "    <tr>\n",
       "      <th>1</th>\n",
       "      <td>Afghanistan</td>\n",
       "      <td>2019</td>\n",
       "      <td>2065.036235</td>\n",
       "    </tr>\n",
       "    <tr>\n",
       "      <th>2</th>\n",
       "      <td>Afghanistan</td>\n",
       "      <td>2018</td>\n",
       "      <td>2033.804389</td>\n",
       "    </tr>\n",
       "    <tr>\n",
       "      <th>3</th>\n",
       "      <td>Afghanistan</td>\n",
       "      <td>2017</td>\n",
       "      <td>2058.400221</td>\n",
       "    </tr>\n",
       "    <tr>\n",
       "      <th>4</th>\n",
       "      <td>Afghanistan</td>\n",
       "      <td>2016</td>\n",
       "      <td>2057.067978</td>\n",
       "    </tr>\n",
       "    <tr>\n",
       "      <th>...</th>\n",
       "      <td>...</td>\n",
       "      <td>...</td>\n",
       "      <td>...</td>\n",
       "    </tr>\n",
       "    <tr>\n",
       "      <th>7171</th>\n",
       "      <td>Zimbabwe</td>\n",
       "      <td>1994</td>\n",
       "      <td>2603.927369</td>\n",
       "    </tr>\n",
       "    <tr>\n",
       "      <th>7172</th>\n",
       "      <td>Zimbabwe</td>\n",
       "      <td>1993</td>\n",
       "      <td>2420.092791</td>\n",
       "    </tr>\n",
       "    <tr>\n",
       "      <th>7173</th>\n",
       "      <td>Zimbabwe</td>\n",
       "      <td>1992</td>\n",
       "      <td>2437.152908</td>\n",
       "    </tr>\n",
       "    <tr>\n",
       "      <th>7174</th>\n",
       "      <td>Zimbabwe</td>\n",
       "      <td>1991</td>\n",
       "      <td>2733.696626</td>\n",
       "    </tr>\n",
       "    <tr>\n",
       "      <th>7175</th>\n",
       "      <td>Zimbabwe</td>\n",
       "      <td>1990</td>\n",
       "      <td>2652.129209</td>\n",
       "    </tr>\n",
       "  </tbody>\n",
       "</table>\n",
       "<p>7176 rows × 3 columns</p>\n",
       "</div>"
      ],
      "text/plain": [
       "          Country  Year  GDP_Per_Capita\n",
       "0     Afghanistan  2020     1970.560169\n",
       "1     Afghanistan  2019     2065.036235\n",
       "2     Afghanistan  2018     2033.804389\n",
       "3     Afghanistan  2017     2058.400221\n",
       "4     Afghanistan  2016     2057.067978\n",
       "...           ...   ...             ...\n",
       "7171     Zimbabwe  1994     2603.927369\n",
       "7172     Zimbabwe  1993     2420.092791\n",
       "7173     Zimbabwe  1992     2437.152908\n",
       "7174     Zimbabwe  1991     2733.696626\n",
       "7175     Zimbabwe  1990     2652.129209\n",
       "\n",
       "[7176 rows x 3 columns]"
      ]
     },
     "execution_count": 144,
     "metadata": {},
     "output_type": "execute_result"
    }
   ],
   "source": [
    "gdp_df1"
   ]
  },
  {
   "cell_type": "code",
   "execution_count": 145,
   "id": "753f75c6",
   "metadata": {},
   "outputs": [
    {
     "data": {
      "text/html": [
       "<div>\n",
       "<style scoped>\n",
       "    .dataframe tbody tr th:only-of-type {\n",
       "        vertical-align: middle;\n",
       "    }\n",
       "\n",
       "    .dataframe tbody tr th {\n",
       "        vertical-align: top;\n",
       "    }\n",
       "\n",
       "    .dataframe thead th {\n",
       "        text-align: right;\n",
       "    }\n",
       "</style>\n",
       "<table border=\"1\" class=\"dataframe\">\n",
       "  <thead>\n",
       "    <tr style=\"text-align: right;\">\n",
       "      <th></th>\n",
       "      <th>Country</th>\n",
       "      <th>Year</th>\n",
       "      <th>GDP_Per_Capita</th>\n",
       "    </tr>\n",
       "  </thead>\n",
       "  <tbody>\n",
       "    <tr>\n",
       "      <th>3882</th>\n",
       "      <td>Luxembourg</td>\n",
       "      <td>2020</td>\n",
       "      <td>112557.309472</td>\n",
       "    </tr>\n",
       "    <tr>\n",
       "      <th>3883</th>\n",
       "      <td>Luxembourg</td>\n",
       "      <td>2019</td>\n",
       "      <td>116518.276815</td>\n",
       "    </tr>\n",
       "    <tr>\n",
       "      <th>3884</th>\n",
       "      <td>Luxembourg</td>\n",
       "      <td>2018</td>\n",
       "      <td>115049.926079</td>\n",
       "    </tr>\n",
       "    <tr>\n",
       "      <th>3885</th>\n",
       "      <td>Luxembourg</td>\n",
       "      <td>2017</td>\n",
       "      <td>114985.842236</td>\n",
       "    </tr>\n",
       "    <tr>\n",
       "      <th>3886</th>\n",
       "      <td>Luxembourg</td>\n",
       "      <td>2016</td>\n",
       "      <td>116283.699681</td>\n",
       "    </tr>\n",
       "    <tr>\n",
       "      <th>3887</th>\n",
       "      <td>Luxembourg</td>\n",
       "      <td>2015</td>\n",
       "      <td>113182.728563</td>\n",
       "    </tr>\n",
       "    <tr>\n",
       "      <th>3888</th>\n",
       "      <td>Luxembourg</td>\n",
       "      <td>2014</td>\n",
       "      <td>113313.578898</td>\n",
       "    </tr>\n",
       "    <tr>\n",
       "      <th>3889</th>\n",
       "      <td>Luxembourg</td>\n",
       "      <td>2013</td>\n",
       "      <td>113050.663254</td>\n",
       "    </tr>\n",
       "    <tr>\n",
       "      <th>3890</th>\n",
       "      <td>Luxembourg</td>\n",
       "      <td>2012</td>\n",
       "      <td>112137.135491</td>\n",
       "    </tr>\n",
       "    <tr>\n",
       "      <th>3891</th>\n",
       "      <td>Luxembourg</td>\n",
       "      <td>2011</td>\n",
       "      <td>112998.390477</td>\n",
       "    </tr>\n",
       "    <tr>\n",
       "      <th>3892</th>\n",
       "      <td>Luxembourg</td>\n",
       "      <td>2010</td>\n",
       "      <td>114343.988089</td>\n",
       "    </tr>\n",
       "    <tr>\n",
       "      <th>3893</th>\n",
       "      <td>Luxembourg</td>\n",
       "      <td>2009</td>\n",
       "      <td>112230.081410</td>\n",
       "    </tr>\n",
       "    <tr>\n",
       "      <th>3894</th>\n",
       "      <td>Luxembourg</td>\n",
       "      <td>2008</td>\n",
       "      <td>118154.667184</td>\n",
       "    </tr>\n",
       "    <tr>\n",
       "      <th>3895</th>\n",
       "      <td>Luxembourg</td>\n",
       "      <td>2007</td>\n",
       "      <td>120647.822959</td>\n",
       "    </tr>\n",
       "    <tr>\n",
       "      <th>3896</th>\n",
       "      <td>Luxembourg</td>\n",
       "      <td>2006</td>\n",
       "      <td>113346.035782</td>\n",
       "    </tr>\n",
       "    <tr>\n",
       "      <th>3897</th>\n",
       "      <td>Luxembourg</td>\n",
       "      <td>2005</td>\n",
       "      <td>108632.360016</td>\n",
       "    </tr>\n",
       "    <tr>\n",
       "      <th>3898</th>\n",
       "      <td>Luxembourg</td>\n",
       "      <td>2004</td>\n",
       "      <td>107634.837198</td>\n",
       "    </tr>\n",
       "    <tr>\n",
       "      <th>3899</th>\n",
       "      <td>Luxembourg</td>\n",
       "      <td>2003</td>\n",
       "      <td>104743.000088</td>\n",
       "    </tr>\n",
       "    <tr>\n",
       "      <th>3900</th>\n",
       "      <td>Luxembourg</td>\n",
       "      <td>2002</td>\n",
       "      <td>103317.331098</td>\n",
       "    </tr>\n",
       "    <tr>\n",
       "      <th>3901</th>\n",
       "      <td>Luxembourg</td>\n",
       "      <td>2001</td>\n",
       "      <td>101143.147977</td>\n",
       "    </tr>\n",
       "    <tr>\n",
       "      <th>3914</th>\n",
       "      <td>Macao SAR, China</td>\n",
       "      <td>2019</td>\n",
       "      <td>127272.548511</td>\n",
       "    </tr>\n",
       "    <tr>\n",
       "      <th>3915</th>\n",
       "      <td>Macao SAR, China</td>\n",
       "      <td>2018</td>\n",
       "      <td>132373.544079</td>\n",
       "    </tr>\n",
       "    <tr>\n",
       "      <th>3916</th>\n",
       "      <td>Macao SAR, China</td>\n",
       "      <td>2017</td>\n",
       "      <td>126144.104058</td>\n",
       "    </tr>\n",
       "    <tr>\n",
       "      <th>3917</th>\n",
       "      <td>Macao SAR, China</td>\n",
       "      <td>2016</td>\n",
       "      <td>116519.507535</td>\n",
       "    </tr>\n",
       "    <tr>\n",
       "      <th>3918</th>\n",
       "      <td>Macao SAR, China</td>\n",
       "      <td>2015</td>\n",
       "      <td>119406.919122</td>\n",
       "    </tr>\n",
       "    <tr>\n",
       "      <th>3919</th>\n",
       "      <td>Macao SAR, China</td>\n",
       "      <td>2014</td>\n",
       "      <td>155201.740571</td>\n",
       "    </tr>\n",
       "    <tr>\n",
       "      <th>3920</th>\n",
       "      <td>Macao SAR, China</td>\n",
       "      <td>2013</td>\n",
       "      <td>161971.464661</td>\n",
       "    </tr>\n",
       "    <tr>\n",
       "      <th>3921</th>\n",
       "      <td>Macao SAR, China</td>\n",
       "      <td>2012</td>\n",
       "      <td>149702.441471</td>\n",
       "    </tr>\n",
       "    <tr>\n",
       "      <th>3922</th>\n",
       "      <td>Macao SAR, China</td>\n",
       "      <td>2011</td>\n",
       "      <td>140321.907954</td>\n",
       "    </tr>\n",
       "    <tr>\n",
       "      <th>3923</th>\n",
       "      <td>Macao SAR, China</td>\n",
       "      <td>2010</td>\n",
       "      <td>118085.567175</td>\n",
       "    </tr>\n",
       "    <tr>\n",
       "      <th>6828</th>\n",
       "      <td>United Arab Emirates</td>\n",
       "      <td>2000</td>\n",
       "      <td>102494.714624</td>\n",
       "    </tr>\n",
       "    <tr>\n",
       "      <th>6830</th>\n",
       "      <td>United Arab Emirates</td>\n",
       "      <td>1998</td>\n",
       "      <td>100100.435658</td>\n",
       "    </tr>\n",
       "    <tr>\n",
       "      <th>6831</th>\n",
       "      <td>United Arab Emirates</td>\n",
       "      <td>1997</td>\n",
       "      <td>105108.996265</td>\n",
       "    </tr>\n",
       "    <tr>\n",
       "      <th>6832</th>\n",
       "      <td>United Arab Emirates</td>\n",
       "      <td>1996</td>\n",
       "      <td>102211.638844</td>\n",
       "    </tr>\n",
       "    <tr>\n",
       "      <th>6833</th>\n",
       "      <td>United Arab Emirates</td>\n",
       "      <td>1995</td>\n",
       "      <td>101570.992100</td>\n",
       "    </tr>\n",
       "    <tr>\n",
       "      <th>6834</th>\n",
       "      <td>United Arab Emirates</td>\n",
       "      <td>1994</td>\n",
       "      <td>100213.156226</td>\n",
       "    </tr>\n",
       "    <tr>\n",
       "      <th>6836</th>\n",
       "      <td>United Arab Emirates</td>\n",
       "      <td>1992</td>\n",
       "      <td>103470.924576</td>\n",
       "    </tr>\n",
       "    <tr>\n",
       "      <th>6837</th>\n",
       "      <td>United Arab Emirates</td>\n",
       "      <td>1991</td>\n",
       "      <td>106103.552655</td>\n",
       "    </tr>\n",
       "    <tr>\n",
       "      <th>6838</th>\n",
       "      <td>United Arab Emirates</td>\n",
       "      <td>1990</td>\n",
       "      <td>111454.055665</td>\n",
       "    </tr>\n",
       "  </tbody>\n",
       "</table>\n",
       "</div>"
      ],
      "text/plain": [
       "                   Country  Year  GDP_Per_Capita\n",
       "3882            Luxembourg  2020   112557.309472\n",
       "3883            Luxembourg  2019   116518.276815\n",
       "3884            Luxembourg  2018   115049.926079\n",
       "3885            Luxembourg  2017   114985.842236\n",
       "3886            Luxembourg  2016   116283.699681\n",
       "3887            Luxembourg  2015   113182.728563\n",
       "3888            Luxembourg  2014   113313.578898\n",
       "3889            Luxembourg  2013   113050.663254\n",
       "3890            Luxembourg  2012   112137.135491\n",
       "3891            Luxembourg  2011   112998.390477\n",
       "3892            Luxembourg  2010   114343.988089\n",
       "3893            Luxembourg  2009   112230.081410\n",
       "3894            Luxembourg  2008   118154.667184\n",
       "3895            Luxembourg  2007   120647.822959\n",
       "3896            Luxembourg  2006   113346.035782\n",
       "3897            Luxembourg  2005   108632.360016\n",
       "3898            Luxembourg  2004   107634.837198\n",
       "3899            Luxembourg  2003   104743.000088\n",
       "3900            Luxembourg  2002   103317.331098\n",
       "3901            Luxembourg  2001   101143.147977\n",
       "3914      Macao SAR, China  2019   127272.548511\n",
       "3915      Macao SAR, China  2018   132373.544079\n",
       "3916      Macao SAR, China  2017   126144.104058\n",
       "3917      Macao SAR, China  2016   116519.507535\n",
       "3918      Macao SAR, China  2015   119406.919122\n",
       "3919      Macao SAR, China  2014   155201.740571\n",
       "3920      Macao SAR, China  2013   161971.464661\n",
       "3921      Macao SAR, China  2012   149702.441471\n",
       "3922      Macao SAR, China  2011   140321.907954\n",
       "3923      Macao SAR, China  2010   118085.567175\n",
       "6828  United Arab Emirates  2000   102494.714624\n",
       "6830  United Arab Emirates  1998   100100.435658\n",
       "6831  United Arab Emirates  1997   105108.996265\n",
       "6832  United Arab Emirates  1996   102211.638844\n",
       "6833  United Arab Emirates  1995   101570.992100\n",
       "6834  United Arab Emirates  1994   100213.156226\n",
       "6836  United Arab Emirates  1992   103470.924576\n",
       "6837  United Arab Emirates  1991   106103.552655\n",
       "6838  United Arab Emirates  1990   111454.055665"
      ]
     },
     "execution_count": 145,
     "metadata": {},
     "output_type": "execute_result"
    }
   ],
   "source": [
    "gdp_df1.loc[gdp_df1['GDP_Per_Capita'] > 100000]"
   ]
  },
  {
   "cell_type": "code",
   "execution_count": 146,
   "id": "a6c2638f",
   "metadata": {},
   "outputs": [],
   "source": [
    "gdp100k = (gdp_df1.loc[gdp_df1['GDP_Per_Capita'] > 100000])"
   ]
  },
  {
   "cell_type": "code",
   "execution_count": 147,
   "id": "496918f4",
   "metadata": {},
   "outputs": [],
   "source": [
    "##gdp100k.iloc['Year' == gdp100k.Year.min()]"
   ]
  },
  {
   "cell_type": "code",
   "execution_count": 148,
   "id": "37c47bb8",
   "metadata": {},
   "outputs": [
    {
     "data": {
      "text/html": [
       "<div>\n",
       "<style scoped>\n",
       "    .dataframe tbody tr th:only-of-type {\n",
       "        vertical-align: middle;\n",
       "    }\n",
       "\n",
       "    .dataframe tbody tr th {\n",
       "        vertical-align: top;\n",
       "    }\n",
       "\n",
       "    .dataframe thead th {\n",
       "        text-align: right;\n",
       "    }\n",
       "</style>\n",
       "<table border=\"1\" class=\"dataframe\">\n",
       "  <thead>\n",
       "    <tr style=\"text-align: right;\">\n",
       "      <th></th>\n",
       "      <th>Country</th>\n",
       "      <th>Year</th>\n",
       "      <th>GDP_Per_Capita</th>\n",
       "    </tr>\n",
       "  </thead>\n",
       "  <tbody>\n",
       "    <tr>\n",
       "      <th>6838</th>\n",
       "      <td>United Arab Emirates</td>\n",
       "      <td>1990</td>\n",
       "      <td>111454.055665</td>\n",
       "    </tr>\n",
       "  </tbody>\n",
       "</table>\n",
       "</div>"
      ],
      "text/plain": [
       "                   Country  Year  GDP_Per_Capita\n",
       "6838  United Arab Emirates  1990   111454.055665"
      ]
     },
     "execution_count": 148,
     "metadata": {},
     "output_type": "execute_result"
    }
   ],
   "source": [
    "gdp100k.nsmallest(1, 'Year')"
   ]
  },
  {
   "cell_type": "markdown",
   "id": "84baf3b2",
   "metadata": {},
   "source": [
    "12. Which country had the highest GDP per capita in 2020? Create a plot showing how this country's GDP per capita has changed over the timespan of the dataset."
   ]
  },
  {
   "cell_type": "code",
   "execution_count": 149,
   "id": "7ba765da",
   "metadata": {},
   "outputs": [
    {
     "data": {
      "text/html": [
       "<div>\n",
       "<style scoped>\n",
       "    .dataframe tbody tr th:only-of-type {\n",
       "        vertical-align: middle;\n",
       "    }\n",
       "\n",
       "    .dataframe tbody tr th {\n",
       "        vertical-align: top;\n",
       "    }\n",
       "\n",
       "    .dataframe thead th {\n",
       "        text-align: right;\n",
       "    }\n",
       "</style>\n",
       "<table border=\"1\" class=\"dataframe\">\n",
       "  <thead>\n",
       "    <tr style=\"text-align: right;\">\n",
       "      <th></th>\n",
       "      <th>Country</th>\n",
       "      <th>Year</th>\n",
       "      <th>GDP_Per_Capita</th>\n",
       "    </tr>\n",
       "  </thead>\n",
       "  <tbody>\n",
       "    <tr>\n",
       "      <th>0</th>\n",
       "      <td>Afghanistan</td>\n",
       "      <td>2020</td>\n",
       "      <td>1970.560169</td>\n",
       "    </tr>\n",
       "    <tr>\n",
       "      <th>1</th>\n",
       "      <td>Afghanistan</td>\n",
       "      <td>2019</td>\n",
       "      <td>2065.036235</td>\n",
       "    </tr>\n",
       "    <tr>\n",
       "      <th>2</th>\n",
       "      <td>Afghanistan</td>\n",
       "      <td>2018</td>\n",
       "      <td>2033.804389</td>\n",
       "    </tr>\n",
       "    <tr>\n",
       "      <th>3</th>\n",
       "      <td>Afghanistan</td>\n",
       "      <td>2017</td>\n",
       "      <td>2058.400221</td>\n",
       "    </tr>\n",
       "    <tr>\n",
       "      <th>4</th>\n",
       "      <td>Afghanistan</td>\n",
       "      <td>2016</td>\n",
       "      <td>2057.067978</td>\n",
       "    </tr>\n",
       "    <tr>\n",
       "      <th>...</th>\n",
       "      <td>...</td>\n",
       "      <td>...</td>\n",
       "      <td>...</td>\n",
       "    </tr>\n",
       "    <tr>\n",
       "      <th>7171</th>\n",
       "      <td>Zimbabwe</td>\n",
       "      <td>1994</td>\n",
       "      <td>2603.927369</td>\n",
       "    </tr>\n",
       "    <tr>\n",
       "      <th>7172</th>\n",
       "      <td>Zimbabwe</td>\n",
       "      <td>1993</td>\n",
       "      <td>2420.092791</td>\n",
       "    </tr>\n",
       "    <tr>\n",
       "      <th>7173</th>\n",
       "      <td>Zimbabwe</td>\n",
       "      <td>1992</td>\n",
       "      <td>2437.152908</td>\n",
       "    </tr>\n",
       "    <tr>\n",
       "      <th>7174</th>\n",
       "      <td>Zimbabwe</td>\n",
       "      <td>1991</td>\n",
       "      <td>2733.696626</td>\n",
       "    </tr>\n",
       "    <tr>\n",
       "      <th>7175</th>\n",
       "      <td>Zimbabwe</td>\n",
       "      <td>1990</td>\n",
       "      <td>2652.129209</td>\n",
       "    </tr>\n",
       "  </tbody>\n",
       "</table>\n",
       "<p>7176 rows × 3 columns</p>\n",
       "</div>"
      ],
      "text/plain": [
       "          Country  Year  GDP_Per_Capita\n",
       "0     Afghanistan  2020     1970.560169\n",
       "1     Afghanistan  2019     2065.036235\n",
       "2     Afghanistan  2018     2033.804389\n",
       "3     Afghanistan  2017     2058.400221\n",
       "4     Afghanistan  2016     2057.067978\n",
       "...           ...   ...             ...\n",
       "7171     Zimbabwe  1994     2603.927369\n",
       "7172     Zimbabwe  1993     2420.092791\n",
       "7173     Zimbabwe  1992     2437.152908\n",
       "7174     Zimbabwe  1991     2733.696626\n",
       "7175     Zimbabwe  1990     2652.129209\n",
       "\n",
       "[7176 rows x 3 columns]"
      ]
     },
     "execution_count": 149,
     "metadata": {},
     "output_type": "execute_result"
    }
   ],
   "source": [
    "gdp_df1"
   ]
  },
  {
   "cell_type": "code",
   "execution_count": 150,
   "id": "30cdf40b",
   "metadata": {},
   "outputs": [],
   "source": [
    "gdpq12 = (gdp_df1.loc[gdp_df.Year == 2020])"
   ]
  },
  {
   "cell_type": "code",
   "execution_count": 151,
   "id": "96b380d8",
   "metadata": {},
   "outputs": [
    {
     "data": {
      "text/html": [
       "<div>\n",
       "<style scoped>\n",
       "    .dataframe tbody tr th:only-of-type {\n",
       "        vertical-align: middle;\n",
       "    }\n",
       "\n",
       "    .dataframe tbody tr th {\n",
       "        vertical-align: top;\n",
       "    }\n",
       "\n",
       "    .dataframe thead th {\n",
       "        text-align: right;\n",
       "    }\n",
       "</style>\n",
       "<table border=\"1\" class=\"dataframe\">\n",
       "  <thead>\n",
       "    <tr style=\"text-align: right;\">\n",
       "      <th></th>\n",
       "      <th>Country</th>\n",
       "      <th>Year</th>\n",
       "      <th>GDP_Per_Capita</th>\n",
       "    </tr>\n",
       "  </thead>\n",
       "  <tbody>\n",
       "    <tr>\n",
       "      <th>3882</th>\n",
       "      <td>Luxembourg</td>\n",
       "      <td>2020</td>\n",
       "      <td>112557.309472</td>\n",
       "    </tr>\n",
       "  </tbody>\n",
       "</table>\n",
       "</div>"
      ],
      "text/plain": [
       "         Country  Year  GDP_Per_Capita\n",
       "3882  Luxembourg  2020   112557.309472"
      ]
     },
     "execution_count": 151,
     "metadata": {},
     "output_type": "execute_result"
    }
   ],
   "source": [
    "gdpq12.nlargest(1, 'GDP_Per_Capita')"
   ]
  },
  {
   "cell_type": "code",
   "execution_count": 152,
   "id": "11e99f5d",
   "metadata": {},
   "outputs": [],
   "source": [
    "gdplux = (gdp_df1.loc[gdp_df.Country == 'Luxembourg'])"
   ]
  },
  {
   "cell_type": "code",
   "execution_count": 153,
   "id": "23bd3fc3",
   "metadata": {},
   "outputs": [
    {
     "data": {
      "text/plain": [
       "<Axes: xlabel='Year', ylabel='GDP_Per_Capita'>"
      ]
     },
     "execution_count": 153,
     "metadata": {},
     "output_type": "execute_result"
    },
    {
     "data": {
      "image/png": "[encoded data removed]",
      "text/plain": [
       "<Figure size 640x480 with 1 Axes>"
      ]
     },
     "metadata": {},
     "output_type": "display_data"
    }
   ],
   "source": [
    "sns.lineplot(x = gdplux.Year, y = gdplux.GDP_Per_Capita)"
   ]
  },
  {
   "cell_type": "markdown",
   "id": "c6de8afa",
   "metadata": {},
   "source": [
    "Which country had the lowest GDP per capita in 2020? Create a plot showing how this country's GDP per capita has changed over the timespan of the dataset."
   ]
  },
  {
   "cell_type": "code",
   "execution_count": 154,
   "id": "06a6472a",
   "metadata": {},
   "outputs": [
    {
     "data": {
      "text/html": [
       "<div>\n",
       "<style scoped>\n",
       "    .dataframe tbody tr th:only-of-type {\n",
       "        vertical-align: middle;\n",
       "    }\n",
       "\n",
       "    .dataframe tbody tr th {\n",
       "        vertical-align: top;\n",
       "    }\n",
       "\n",
       "    .dataframe thead th {\n",
       "        text-align: right;\n",
       "    }\n",
       "</style>\n",
       "<table border=\"1\" class=\"dataframe\">\n",
       "  <thead>\n",
       "    <tr style=\"text-align: right;\">\n",
       "      <th></th>\n",
       "      <th>Country</th>\n",
       "      <th>Year</th>\n",
       "      <th>GDP_Per_Capita</th>\n",
       "    </tr>\n",
       "  </thead>\n",
       "  <tbody>\n",
       "    <tr>\n",
       "      <th>0</th>\n",
       "      <td>Afghanistan</td>\n",
       "      <td>2020</td>\n",
       "      <td>1970.560169</td>\n",
       "    </tr>\n",
       "    <tr>\n",
       "      <th>19</th>\n",
       "      <td>Africa Eastern and Southern</td>\n",
       "      <td>2020</td>\n",
       "      <td>3491.978104</td>\n",
       "    </tr>\n",
       "    <tr>\n",
       "      <th>50</th>\n",
       "      <td>Africa Western and Central</td>\n",
       "      <td>2020</td>\n",
       "      <td>4021.293919</td>\n",
       "    </tr>\n",
       "    <tr>\n",
       "      <th>81</th>\n",
       "      <td>Albania</td>\n",
       "      <td>2020</td>\n",
       "      <td>13253.733337</td>\n",
       "    </tr>\n",
       "    <tr>\n",
       "      <th>112</th>\n",
       "      <td>Algeria</td>\n",
       "      <td>2020</td>\n",
       "      <td>10735.382539</td>\n",
       "    </tr>\n",
       "    <tr>\n",
       "      <th>...</th>\n",
       "      <td>...</td>\n",
       "      <td>...</td>\n",
       "      <td>...</td>\n",
       "    </tr>\n",
       "    <tr>\n",
       "      <th>7025</th>\n",
       "      <td>Vietnam</td>\n",
       "      <td>2020</td>\n",
       "      <td>10338.270543</td>\n",
       "    </tr>\n",
       "    <tr>\n",
       "      <th>7056</th>\n",
       "      <td>West Bank and Gaza</td>\n",
       "      <td>2020</td>\n",
       "      <td>5402.538773</td>\n",
       "    </tr>\n",
       "    <tr>\n",
       "      <th>7083</th>\n",
       "      <td>World</td>\n",
       "      <td>2020</td>\n",
       "      <td>16269.969854</td>\n",
       "    </tr>\n",
       "    <tr>\n",
       "      <th>7114</th>\n",
       "      <td>Zambia</td>\n",
       "      <td>2020</td>\n",
       "      <td>3277.816510</td>\n",
       "    </tr>\n",
       "    <tr>\n",
       "      <th>7145</th>\n",
       "      <td>Zimbabwe</td>\n",
       "      <td>2020</td>\n",
       "      <td>2134.555461</td>\n",
       "    </tr>\n",
       "  </tbody>\n",
       "</table>\n",
       "<p>240 rows × 3 columns</p>\n",
       "</div>"
      ],
      "text/plain": [
       "                          Country  Year  GDP_Per_Capita\n",
       "0                     Afghanistan  2020     1970.560169\n",
       "19    Africa Eastern and Southern  2020     3491.978104\n",
       "50     Africa Western and Central  2020     4021.293919\n",
       "81                        Albania  2020    13253.733337\n",
       "112                       Algeria  2020    10735.382539\n",
       "...                           ...   ...             ...\n",
       "7025                      Vietnam  2020    10338.270543\n",
       "7056           West Bank and Gaza  2020     5402.538773\n",
       "7083                        World  2020    16269.969854\n",
       "7114                       Zambia  2020     3277.816510\n",
       "7145                     Zimbabwe  2020     2134.555461\n",
       "\n",
       "[240 rows x 3 columns]"
      ]
     },
     "execution_count": 154,
     "metadata": {},
     "output_type": "execute_result"
    }
   ],
   "source": [
    "gdpq12"
   ]
  },
  {
   "cell_type": "code",
   "execution_count": 155,
   "id": "5b242bcb",
   "metadata": {},
   "outputs": [
    {
     "data": {
      "text/html": [
       "<div>\n",
       "<style scoped>\n",
       "    .dataframe tbody tr th:only-of-type {\n",
       "        vertical-align: middle;\n",
       "    }\n",
       "\n",
       "    .dataframe tbody tr th {\n",
       "        vertical-align: top;\n",
       "    }\n",
       "\n",
       "    .dataframe thead th {\n",
       "        text-align: right;\n",
       "    }\n",
       "</style>\n",
       "<table border=\"1\" class=\"dataframe\">\n",
       "  <thead>\n",
       "    <tr style=\"text-align: right;\">\n",
       "      <th></th>\n",
       "      <th>Country</th>\n",
       "      <th>Year</th>\n",
       "      <th>GDP_Per_Capita</th>\n",
       "    </tr>\n",
       "  </thead>\n",
       "  <tbody>\n",
       "    <tr>\n",
       "      <th>914</th>\n",
       "      <td>Burundi</td>\n",
       "      <td>2020</td>\n",
       "      <td>731.064074</td>\n",
       "    </tr>\n",
       "  </tbody>\n",
       "</table>\n",
       "</div>"
      ],
      "text/plain": [
       "     Country  Year  GDP_Per_Capita\n",
       "914  Burundi  2020      731.064074"
      ]
     },
     "execution_count": 155,
     "metadata": {},
     "output_type": "execute_result"
    }
   ],
   "source": [
    "gdpq12.nsmallest(1, 'GDP_Per_Capita')"
   ]
  },
  {
   "cell_type": "code",
   "execution_count": 156,
   "id": "fc28169f",
   "metadata": {},
   "outputs": [],
   "source": [
    "gdpburundi = (gdp_df1.loc[gdp_df.Country == 'Burundi'])"
   ]
  },
  {
   "cell_type": "code",
   "execution_count": 157,
   "id": "f882b487",
   "metadata": {},
   "outputs": [
    {
     "data": {
      "text/plain": [
       "<Axes: xlabel='Year', ylabel='GDP_Per_Capita'>"
      ]
     },
     "execution_count": 157,
     "metadata": {},
     "output_type": "execute_result"
    },
    {
     "data": {
      "image/png": "[encoded data removed]",
      "text/plain": [
       "<Figure size 640x480 with 1 Axes>"
      ]
     },
     "metadata": {},
     "output_type": "display_data"
    }
   ],
   "source": [
    "sns.lineplot(x = gdpburundi.Year, y = gdpburundi.GDP_Per_Capita)"
   ]
  },
  {
   "cell_type": "code",
   "execution_count": 158,
   "id": "f7e467b0",
   "metadata": {},
   "outputs": [],
   "source": [
    "interdf = pd.read_csv(\"../data/internet_use.csv\",on_bad_lines='skip')"
   ]
  },
  {
   "cell_type": "code",
   "execution_count": 159,
   "id": "060e2307",
   "metadata": {},
   "outputs": [
    {
     "data": {
      "text/html": [
       "<div>\n",
       "<style scoped>\n",
       "    .dataframe tbody tr th:only-of-type {\n",
       "        vertical-align: middle;\n",
       "    }\n",
       "\n",
       "    .dataframe tbody tr th {\n",
       "        vertical-align: top;\n",
       "    }\n",
       "\n",
       "    .dataframe thead th {\n",
       "        text-align: right;\n",
       "    }\n",
       "</style>\n",
       "<table border=\"1\" class=\"dataframe\">\n",
       "  <thead>\n",
       "    <tr style=\"text-align: right;\">\n",
       "      <th></th>\n",
       "      <th>Country or Area</th>\n",
       "      <th>Year</th>\n",
       "      <th>Value</th>\n",
       "      <th>Value Footnotes</th>\n",
       "    </tr>\n",
       "  </thead>\n",
       "  <tbody>\n",
       "    <tr>\n",
       "      <th>0</th>\n",
       "      <td>Afghanistan</td>\n",
       "      <td>2014</td>\n",
       "      <td>6.390000</td>\n",
       "      <td>NaN</td>\n",
       "    </tr>\n",
       "    <tr>\n",
       "      <th>1</th>\n",
       "      <td>Afghanistan</td>\n",
       "      <td>2013</td>\n",
       "      <td>5.900000</td>\n",
       "      <td>NaN</td>\n",
       "    </tr>\n",
       "    <tr>\n",
       "      <th>2</th>\n",
       "      <td>Afghanistan</td>\n",
       "      <td>2012</td>\n",
       "      <td>5.454545</td>\n",
       "      <td>NaN</td>\n",
       "    </tr>\n",
       "    <tr>\n",
       "      <th>3</th>\n",
       "      <td>Afghanistan</td>\n",
       "      <td>2011</td>\n",
       "      <td>5.000000</td>\n",
       "      <td>NaN</td>\n",
       "    </tr>\n",
       "    <tr>\n",
       "      <th>4</th>\n",
       "      <td>Afghanistan</td>\n",
       "      <td>2010</td>\n",
       "      <td>4.000000</td>\n",
       "      <td>NaN</td>\n",
       "    </tr>\n",
       "    <tr>\n",
       "      <th>...</th>\n",
       "      <td>...</td>\n",
       "      <td>...</td>\n",
       "      <td>...</td>\n",
       "      <td>...</td>\n",
       "    </tr>\n",
       "    <tr>\n",
       "      <th>4670</th>\n",
       "      <td>175</td>\n",
       "      <td>Includes individuals 3 years and older</td>\n",
       "      <td>NaN</td>\n",
       "      <td>NaN</td>\n",
       "    </tr>\n",
       "    <tr>\n",
       "      <th>4671</th>\n",
       "      <td>176</td>\n",
       "      <td>NTIA/CPS survey.</td>\n",
       "      <td>NaN</td>\n",
       "      <td>NaN</td>\n",
       "    </tr>\n",
       "    <tr>\n",
       "      <th>4672</th>\n",
       "      <td>178</td>\n",
       "      <td>Estimated based on Survey's results. Populatio...</td>\n",
       "      <td>NaN</td>\n",
       "      <td>NaN</td>\n",
       "    </tr>\n",
       "    <tr>\n",
       "      <th>4673</th>\n",
       "      <td>179</td>\n",
       "      <td>Preliminary. Country estimate.</td>\n",
       "      <td>NaN</td>\n",
       "      <td>NaN</td>\n",
       "    </tr>\n",
       "    <tr>\n",
       "      <th>4674</th>\n",
       "      <td>180</td>\n",
       "      <td>The methodology used to estimated the figure f...</td>\n",
       "      <td>NaN</td>\n",
       "      <td>NaN</td>\n",
       "    </tr>\n",
       "  </tbody>\n",
       "</table>\n",
       "<p>4675 rows × 4 columns</p>\n",
       "</div>"
      ],
      "text/plain": [
       "     Country or Area                                               Year  \\\n",
       "0        Afghanistan                                               2014   \n",
       "1        Afghanistan                                               2013   \n",
       "2        Afghanistan                                               2012   \n",
       "3        Afghanistan                                               2011   \n",
       "4        Afghanistan                                               2010   \n",
       "...              ...                                                ...   \n",
       "4670             175             Includes individuals 3 years and older   \n",
       "4671             176                                   NTIA/CPS survey.   \n",
       "4672             178  Estimated based on Survey's results. Populatio...   \n",
       "4673             179                     Preliminary. Country estimate.   \n",
       "4674             180  The methodology used to estimated the figure f...   \n",
       "\n",
       "         Value  Value Footnotes  \n",
       "0     6.390000              NaN  \n",
       "1     5.900000              NaN  \n",
       "2     5.454545              NaN  \n",
       "3     5.000000              NaN  \n",
       "4     4.000000              NaN  \n",
       "...        ...              ...  \n",
       "4670       NaN              NaN  \n",
       "4671       NaN              NaN  \n",
       "4672       NaN              NaN  \n",
       "4673       NaN              NaN  \n",
       "4674       NaN              NaN  \n",
       "\n",
       "[4675 rows x 4 columns]"
      ]
     },
     "execution_count": 159,
     "metadata": {},
     "output_type": "execute_result"
    }
   ],
   "source": [
    "interdf"
   ]
  },
  {
   "cell_type": "code",
   "execution_count": 160,
   "id": "6b65bd1d",
   "metadata": {},
   "outputs": [],
   "source": [
    "interdf = (interdf.dropna(subset=['Value']))"
   ]
  },
  {
   "cell_type": "code",
   "execution_count": 161,
   "id": "f013ead8",
   "metadata": {},
   "outputs": [],
   "source": [
    "interdf = (interdf.drop(columns = ['Value Footnotes']))"
   ]
  },
  {
   "cell_type": "code",
   "execution_count": 162,
   "id": "6289ffcb",
   "metadata": {},
   "outputs": [],
   "source": [
    "interdf = (interdf.rename(columns={'Country or Area':\"Country\", \"Value\":\"Internet_Users_Pct\"}))"
   ]
  },
  {
   "cell_type": "code",
   "execution_count": 163,
   "id": "1b7b137d",
   "metadata": {
    "scrolled": true
   },
   "outputs": [
    {
     "data": {
      "text/html": [
       "<div>\n",
       "<style scoped>\n",
       "    .dataframe tbody tr th:only-of-type {\n",
       "        vertical-align: middle;\n",
       "    }\n",
       "\n",
       "    .dataframe tbody tr th {\n",
       "        vertical-align: top;\n",
       "    }\n",
       "\n",
       "    .dataframe thead th {\n",
       "        text-align: right;\n",
       "    }\n",
       "</style>\n",
       "<table border=\"1\" class=\"dataframe\">\n",
       "  <thead>\n",
       "    <tr style=\"text-align: right;\">\n",
       "      <th></th>\n",
       "      <th>Country</th>\n",
       "      <th>Year</th>\n",
       "      <th>Internet_Users_Pct</th>\n",
       "    </tr>\n",
       "  </thead>\n",
       "  <tbody>\n",
       "    <tr>\n",
       "      <th>0</th>\n",
       "      <td>Afghanistan</td>\n",
       "      <td>2014</td>\n",
       "      <td>6.390000</td>\n",
       "    </tr>\n",
       "    <tr>\n",
       "      <th>1</th>\n",
       "      <td>Afghanistan</td>\n",
       "      <td>2013</td>\n",
       "      <td>5.900000</td>\n",
       "    </tr>\n",
       "    <tr>\n",
       "      <th>2</th>\n",
       "      <td>Afghanistan</td>\n",
       "      <td>2012</td>\n",
       "      <td>5.454545</td>\n",
       "    </tr>\n",
       "    <tr>\n",
       "      <th>3</th>\n",
       "      <td>Afghanistan</td>\n",
       "      <td>2011</td>\n",
       "      <td>5.000000</td>\n",
       "    </tr>\n",
       "    <tr>\n",
       "      <th>4</th>\n",
       "      <td>Afghanistan</td>\n",
       "      <td>2010</td>\n",
       "      <td>4.000000</td>\n",
       "    </tr>\n",
       "    <tr>\n",
       "      <th>...</th>\n",
       "      <td>...</td>\n",
       "      <td>...</td>\n",
       "      <td>...</td>\n",
       "    </tr>\n",
       "    <tr>\n",
       "      <th>4490</th>\n",
       "      <td>Zimbabwe</td>\n",
       "      <td>1997</td>\n",
       "      <td>0.033080</td>\n",
       "    </tr>\n",
       "    <tr>\n",
       "      <th>4491</th>\n",
       "      <td>Zimbabwe</td>\n",
       "      <td>1996</td>\n",
       "      <td>0.016790</td>\n",
       "    </tr>\n",
       "    <tr>\n",
       "      <th>4492</th>\n",
       "      <td>Zimbabwe</td>\n",
       "      <td>1995</td>\n",
       "      <td>0.007684</td>\n",
       "    </tr>\n",
       "    <tr>\n",
       "      <th>4493</th>\n",
       "      <td>Zimbabwe</td>\n",
       "      <td>1994</td>\n",
       "      <td>0.001739</td>\n",
       "    </tr>\n",
       "    <tr>\n",
       "      <th>4494</th>\n",
       "      <td>Zimbabwe</td>\n",
       "      <td>1990</td>\n",
       "      <td>0.000000</td>\n",
       "    </tr>\n",
       "  </tbody>\n",
       "</table>\n",
       "<p>4495 rows × 3 columns</p>\n",
       "</div>"
      ],
      "text/plain": [
       "          Country  Year  Internet_Users_Pct\n",
       "0     Afghanistan  2014            6.390000\n",
       "1     Afghanistan  2013            5.900000\n",
       "2     Afghanistan  2012            5.454545\n",
       "3     Afghanistan  2011            5.000000\n",
       "4     Afghanistan  2010            4.000000\n",
       "...           ...   ...                 ...\n",
       "4490     Zimbabwe  1997            0.033080\n",
       "4491     Zimbabwe  1996            0.016790\n",
       "4492     Zimbabwe  1995            0.007684\n",
       "4493     Zimbabwe  1994            0.001739\n",
       "4494     Zimbabwe  1990            0.000000\n",
       "\n",
       "[4495 rows x 3 columns]"
      ]
     },
     "execution_count": 163,
     "metadata": {},
     "output_type": "execute_result"
    }
   ],
   "source": [
    "interdf"
   ]
  },
  {
   "cell_type": "markdown",
   "id": "0eb004d2",
   "metadata": {},
   "source": [
    "17. What is the first year to have a non-zero internet users percentage value?"
   ]
  },
  {
   "cell_type": "code",
   "execution_count": 164,
   "id": "9eff64a2",
   "metadata": {},
   "outputs": [],
   "source": [
    "interdfnon0 = (interdf.loc[interdf['Internet_Users_Pct'] != 0])"
   ]
  },
  {
   "cell_type": "code",
   "execution_count": 165,
   "id": "4448548d",
   "metadata": {},
   "outputs": [
    {
     "data": {
      "text/plain": [
       "'1990'"
      ]
     },
     "execution_count": 165,
     "metadata": {},
     "output_type": "execute_result"
    }
   ],
   "source": [
    "interdfnon0.Year.min()"
   ]
  },
  {
   "cell_type": "code",
   "execution_count": 166,
   "id": "c2d8e7cb",
   "metadata": {},
   "outputs": [],
   "source": [
    "##interdfnon0.nsmallest(1, 'Year') ##dont do this"
   ]
  },
  {
   "cell_type": "code",
   "execution_count": 167,
   "id": "fb64b775",
   "metadata": {
    "scrolled": false
   },
   "outputs": [],
   "source": [
    "##interdfnon0['Year'] = interdfnon0['Year'].astype(float)"
   ]
  },
  {
   "cell_type": "code",
   "execution_count": 169,
   "id": "0b27462d",
   "metadata": {
    "scrolled": true
   },
   "outputs": [],
   "source": [
    "##interdfnon0.nsmallest(1, 'Year')"
   ]
  },
  {
   "cell_type": "markdown",
   "id": "54af1ecd",
   "metadata": {},
   "source": [
    "16. Look at the number of observations in this dataset per year. What do you notice?\n"
   ]
  },
  {
   "cell_type": "code",
   "execution_count": 170,
   "id": "84066cc5",
   "metadata": {},
   "outputs": [
    {
     "data": {
      "text/plain": [
       "'1990'"
      ]
     },
     "execution_count": 170,
     "metadata": {},
     "output_type": "execute_result"
    }
   ],
   "source": [
    "interdf[interdf['Internet_Users_Pct'] > 0]['Year'].min()"
   ]
  },
  {
   "cell_type": "code",
   "execution_count": 171,
   "id": "4457ce35",
   "metadata": {
    "scrolled": false
   },
   "outputs": [
    {
     "data": {
      "text/plain": [
       "Year\n",
       "1990    210\n",
       "2011    207\n",
       "2007    206\n",
       "2008    204\n",
       "2012    203\n",
       "2010    203\n",
       "2009    203\n",
       "2014    202\n",
       "2013    202\n",
       "2002    202\n",
       "2001    201\n",
       "2005    201\n",
       "2006    200\n",
       "2000    199\n",
       "2004    199\n",
       "1999    198\n",
       "2003    196\n",
       "1998    190\n",
       "1997    184\n",
       "1996    175\n",
       "1995    138\n",
       "1994     91\n",
       "1993     65\n",
       "1992     50\n",
       "1991     39\n",
       "1989      8\n",
       "1965      7\n",
       "1980      7\n",
       "1970      7\n",
       "1975      7\n",
       "1976      7\n",
       "1977      7\n",
       "1978      7\n",
       "1979      7\n",
       "1982      7\n",
       "1981      7\n",
       "1983      7\n",
       "1984      7\n",
       "1985      7\n",
       "1986      7\n",
       "1987      7\n",
       "1988      7\n",
       "1960      7\n",
       "Name: count, dtype: int64"
      ]
     },
     "execution_count": 171,
     "metadata": {},
     "output_type": "execute_result"
    }
   ],
   "source": [
    "interdf.value_counts(['Year'])"
   ]
  },
  {
   "cell_type": "markdown",
   "id": "691ff28f",
   "metadata": {},
   "source": [
    "18. How does the distribution of internet users percent differ for 2000 and 2014?"
   ]
  },
  {
   "cell_type": "code",
   "execution_count": 178,
   "id": "6251833e",
   "metadata": {},
   "outputs": [
    {
     "data": {
      "text/html": [
       "<div>\n",
       "<style scoped>\n",
       "    .dataframe tbody tr th:only-of-type {\n",
       "        vertical-align: middle;\n",
       "    }\n",
       "\n",
       "    .dataframe tbody tr th {\n",
       "        vertical-align: top;\n",
       "    }\n",
       "\n",
       "    .dataframe thead th {\n",
       "        text-align: right;\n",
       "    }\n",
       "</style>\n",
       "<table border=\"1\" class=\"dataframe\">\n",
       "  <thead>\n",
       "    <tr style=\"text-align: right;\">\n",
       "      <th></th>\n",
       "      <th>Country</th>\n",
       "      <th>Year</th>\n",
       "      <th>Internet_Users_Pct</th>\n",
       "    </tr>\n",
       "  </thead>\n",
       "  <tbody>\n",
       "    <tr>\n",
       "      <th>0</th>\n",
       "      <td>Afghanistan</td>\n",
       "      <td>2014</td>\n",
       "      <td>6.390000</td>\n",
       "    </tr>\n",
       "    <tr>\n",
       "      <th>15</th>\n",
       "      <td>Albania</td>\n",
       "      <td>2014</td>\n",
       "      <td>60.100000</td>\n",
       "    </tr>\n",
       "    <tr>\n",
       "      <th>29</th>\n",
       "      <td>Albania</td>\n",
       "      <td>2000</td>\n",
       "      <td>0.114097</td>\n",
       "    </tr>\n",
       "    <tr>\n",
       "      <th>36</th>\n",
       "      <td>Algeria</td>\n",
       "      <td>2014</td>\n",
       "      <td>18.090000</td>\n",
       "    </tr>\n",
       "    <tr>\n",
       "      <th>50</th>\n",
       "      <td>Algeria</td>\n",
       "      <td>2000</td>\n",
       "      <td>0.491706</td>\n",
       "    </tr>\n",
       "    <tr>\n",
       "      <th>...</th>\n",
       "      <td>...</td>\n",
       "      <td>...</td>\n",
       "      <td>...</td>\n",
       "    </tr>\n",
       "    <tr>\n",
       "      <th>4445</th>\n",
       "      <td>Yemen</td>\n",
       "      <td>2000</td>\n",
       "      <td>0.082500</td>\n",
       "    </tr>\n",
       "    <tr>\n",
       "      <th>4451</th>\n",
       "      <td>Zambia</td>\n",
       "      <td>2014</td>\n",
       "      <td>17.340000</td>\n",
       "    </tr>\n",
       "    <tr>\n",
       "      <th>4465</th>\n",
       "      <td>Zambia</td>\n",
       "      <td>2000</td>\n",
       "      <td>0.191072</td>\n",
       "    </tr>\n",
       "    <tr>\n",
       "      <th>4473</th>\n",
       "      <td>Zimbabwe</td>\n",
       "      <td>2014</td>\n",
       "      <td>19.890000</td>\n",
       "    </tr>\n",
       "    <tr>\n",
       "      <th>4487</th>\n",
       "      <td>Zimbabwe</td>\n",
       "      <td>2000</td>\n",
       "      <td>0.401434</td>\n",
       "    </tr>\n",
       "  </tbody>\n",
       "</table>\n",
       "<p>401 rows × 3 columns</p>\n",
       "</div>"
      ],
      "text/plain": [
       "          Country  Year  Internet_Users_Pct\n",
       "0     Afghanistan  2014            6.390000\n",
       "15        Albania  2014           60.100000\n",
       "29        Albania  2000            0.114097\n",
       "36        Algeria  2014           18.090000\n",
       "50        Algeria  2000            0.491706\n",
       "...           ...   ...                 ...\n",
       "4445        Yemen  2000            0.082500\n",
       "4451       Zambia  2014           17.340000\n",
       "4465       Zambia  2000            0.191072\n",
       "4473     Zimbabwe  2014           19.890000\n",
       "4487     Zimbabwe  2000            0.401434\n",
       "\n",
       "[401 rows x 3 columns]"
      ]
     },
     "execution_count": 178,
     "metadata": {},
     "output_type": "execute_result"
    }
   ],
   "source": [
    "interdf.loc[interdf['Year'].isin(['2000', '2014'])]"
   ]
  },
  {
   "cell_type": "code",
   "execution_count": 179,
   "id": "10c827e2",
   "metadata": {
    "scrolled": false
   },
   "outputs": [],
   "source": [
    "interdf0014 = (interdf.loc[interdf['Year'].isin(['2000', '2014'])])"
   ]
  },
  {
   "cell_type": "code",
   "execution_count": 183,
   "id": "c4b6b659",
   "metadata": {},
   "outputs": [
    {
     "data": {
      "text/plain": [
       "<Axes: xlabel='Year', ylabel='Internet_Users_Pct'>"
      ]
     },
     "execution_count": 183,
     "metadata": {},
     "output_type": "execute_result"
    },
    {
     "data": {
      "image/png": "[encoded data removed]",
      "text/plain": [
       "<Figure size 640x480 with 1 Axes>"
      ]
     },
     "metadata": {},
     "output_type": "display_data"
    }
   ],
   "source": [
    "sns.barplot(x = interdf0014.Year, y = interdf0014['Internet_Users_Pct'])"
   ]
  },
  {
   "cell_type": "markdown",
   "id": "dfc74ca5",
   "metadata": {},
   "source": [
    "19. For how many countries was the percentage of internet users below 5% in 2014?"
   ]
  },
  {
   "cell_type": "code",
   "execution_count": 184,
   "id": "eb443c9b",
   "metadata": {},
   "outputs": [
    {
     "data": {
      "text/html": [
       "<div>\n",
       "<style scoped>\n",
       "    .dataframe tbody tr th:only-of-type {\n",
       "        vertical-align: middle;\n",
       "    }\n",
       "\n",
       "    .dataframe tbody tr th {\n",
       "        vertical-align: top;\n",
       "    }\n",
       "\n",
       "    .dataframe thead th {\n",
       "        text-align: right;\n",
       "    }\n",
       "</style>\n",
       "<table border=\"1\" class=\"dataframe\">\n",
       "  <thead>\n",
       "    <tr style=\"text-align: right;\">\n",
       "      <th></th>\n",
       "      <th>Country</th>\n",
       "      <th>Year</th>\n",
       "      <th>Internet_Users_Pct</th>\n",
       "    </tr>\n",
       "  </thead>\n",
       "  <tbody>\n",
       "    <tr>\n",
       "      <th>623</th>\n",
       "      <td>Burundi</td>\n",
       "      <td>2014</td>\n",
       "      <td>1.38</td>\n",
       "    </tr>\n",
       "    <tr>\n",
       "      <th>762</th>\n",
       "      <td>Central African Rep.</td>\n",
       "      <td>2014</td>\n",
       "      <td>4.03</td>\n",
       "    </tr>\n",
       "    <tr>\n",
       "      <th>782</th>\n",
       "      <td>Chad</td>\n",
       "      <td>2014</td>\n",
       "      <td>2.50</td>\n",
       "    </tr>\n",
       "    <tr>\n",
       "      <th>909</th>\n",
       "      <td>Congo (Democratic Republic of the)</td>\n",
       "      <td>2014</td>\n",
       "      <td>3.00</td>\n",
       "    </tr>\n",
       "    <tr>\n",
       "      <th>1065</th>\n",
       "      <td>Dem. People's Rep. of Korea</td>\n",
       "      <td>2014</td>\n",
       "      <td>0.00</td>\n",
       "    </tr>\n",
       "    <tr>\n",
       "      <th>1256</th>\n",
       "      <td>Eritrea</td>\n",
       "      <td>2014</td>\n",
       "      <td>0.99</td>\n",
       "    </tr>\n",
       "    <tr>\n",
       "      <th>1299</th>\n",
       "      <td>Ethiopia</td>\n",
       "      <td>2014</td>\n",
       "      <td>2.90</td>\n",
       "    </tr>\n",
       "    <tr>\n",
       "      <th>1720</th>\n",
       "      <td>Guinea</td>\n",
       "      <td>2014</td>\n",
       "      <td>1.72</td>\n",
       "    </tr>\n",
       "    <tr>\n",
       "      <th>1742</th>\n",
       "      <td>Guinea-Bissau</td>\n",
       "      <td>2014</td>\n",
       "      <td>3.32</td>\n",
       "    </tr>\n",
       "    <tr>\n",
       "      <th>2453</th>\n",
       "      <td>Madagascar</td>\n",
       "      <td>2014</td>\n",
       "      <td>3.70</td>\n",
       "    </tr>\n",
       "    <tr>\n",
       "      <th>2814</th>\n",
       "      <td>Myanmar</td>\n",
       "      <td>2014</td>\n",
       "      <td>2.10</td>\n",
       "    </tr>\n",
       "    <tr>\n",
       "      <th>2975</th>\n",
       "      <td>Niger</td>\n",
       "      <td>2014</td>\n",
       "      <td>1.95</td>\n",
       "    </tr>\n",
       "    <tr>\n",
       "      <th>3533</th>\n",
       "      <td>Sierra Leone</td>\n",
       "      <td>2014</td>\n",
       "      <td>2.10</td>\n",
       "    </tr>\n",
       "    <tr>\n",
       "      <th>3648</th>\n",
       "      <td>Somalia</td>\n",
       "      <td>2014</td>\n",
       "      <td>1.63</td>\n",
       "    </tr>\n",
       "    <tr>\n",
       "      <th>3956</th>\n",
       "      <td>Tanzania</td>\n",
       "      <td>2014</td>\n",
       "      <td>4.86</td>\n",
       "    </tr>\n",
       "    <tr>\n",
       "      <th>4019</th>\n",
       "      <td>Timor-Leste</td>\n",
       "      <td>2014</td>\n",
       "      <td>1.14</td>\n",
       "    </tr>\n",
       "  </tbody>\n",
       "</table>\n",
       "</div>"
      ],
      "text/plain": [
       "                                 Country  Year  Internet_Users_Pct\n",
       "623                              Burundi  2014                1.38\n",
       "762                 Central African Rep.  2014                4.03\n",
       "782                                 Chad  2014                2.50\n",
       "909   Congo (Democratic Republic of the)  2014                3.00\n",
       "1065         Dem. People's Rep. of Korea  2014                0.00\n",
       "1256                             Eritrea  2014                0.99\n",
       "1299                            Ethiopia  2014                2.90\n",
       "1720                              Guinea  2014                1.72\n",
       "1742                       Guinea-Bissau  2014                3.32\n",
       "2453                          Madagascar  2014                3.70\n",
       "2814                             Myanmar  2014                2.10\n",
       "2975                               Niger  2014                1.95\n",
       "3533                        Sierra Leone  2014                2.10\n",
       "3648                             Somalia  2014                1.63\n",
       "3956                            Tanzania  2014                4.86\n",
       "4019                         Timor-Leste  2014                1.14"
      ]
     },
     "execution_count": 184,
     "metadata": {},
     "output_type": "execute_result"
    }
   ],
   "source": [
    "interdf.loc[(interdf['Internet_Users_Pct'] < 5.0) & (interdf['Year'] == '2014')]"
   ]
  },
  {
   "cell_type": "code",
   "execution_count": 186,
   "id": "ae869be9",
   "metadata": {},
   "outputs": [],
   "source": [
    "inter2014 = (interdf.loc[(interdf['Internet_Users_Pct'] < 5.0) & (interdf['Year'] == '2014')])"
   ]
  },
  {
   "cell_type": "code",
   "execution_count": 188,
   "id": "2be9673e",
   "metadata": {},
   "outputs": [
    {
     "data": {
      "text/plain": [
       "Country               16\n",
       "Year                  16\n",
       "Internet_Users_Pct    16\n",
       "dtype: int64"
      ]
     },
     "execution_count": 188,
     "metadata": {},
     "output_type": "execute_result"
    }
   ],
   "source": [
    "inter2014.count()"
   ]
  },
  {
   "cell_type": "markdown",
   "id": "56282a7b",
   "metadata": {},
   "source": [
    "20. Merge the two DataFrames to one. Do this in a way that keeps **all rows** from each of the two DataFrames. Call the new DataFrame `gdp_and_internet_use`. Look at the first and last few rows to confirm that it merged correctly."
   ]
  },
  {
   "cell_type": "code",
   "execution_count": 189,
   "id": "1451f272",
   "metadata": {},
   "outputs": [
    {
     "data": {
      "text/html": [
       "<div>\n",
       "<style scoped>\n",
       "    .dataframe tbody tr th:only-of-type {\n",
       "        vertical-align: middle;\n",
       "    }\n",
       "\n",
       "    .dataframe tbody tr th {\n",
       "        vertical-align: top;\n",
       "    }\n",
       "\n",
       "    .dataframe thead th {\n",
       "        text-align: right;\n",
       "    }\n",
       "</style>\n",
       "<table border=\"1\" class=\"dataframe\">\n",
       "  <thead>\n",
       "    <tr style=\"text-align: right;\">\n",
       "      <th></th>\n",
       "      <th>Country</th>\n",
       "      <th>Year</th>\n",
       "      <th>GDP_Per_Capita</th>\n",
       "    </tr>\n",
       "  </thead>\n",
       "  <tbody>\n",
       "    <tr>\n",
       "      <th>0</th>\n",
       "      <td>Afghanistan</td>\n",
       "      <td>2020</td>\n",
       "      <td>1970.560169</td>\n",
       "    </tr>\n",
       "    <tr>\n",
       "      <th>1</th>\n",
       "      <td>Afghanistan</td>\n",
       "      <td>2019</td>\n",
       "      <td>2065.036235</td>\n",
       "    </tr>\n",
       "    <tr>\n",
       "      <th>2</th>\n",
       "      <td>Afghanistan</td>\n",
       "      <td>2018</td>\n",
       "      <td>2033.804389</td>\n",
       "    </tr>\n",
       "    <tr>\n",
       "      <th>3</th>\n",
       "      <td>Afghanistan</td>\n",
       "      <td>2017</td>\n",
       "      <td>2058.400221</td>\n",
       "    </tr>\n",
       "    <tr>\n",
       "      <th>4</th>\n",
       "      <td>Afghanistan</td>\n",
       "      <td>2016</td>\n",
       "      <td>2057.067978</td>\n",
       "    </tr>\n",
       "    <tr>\n",
       "      <th>...</th>\n",
       "      <td>...</td>\n",
       "      <td>...</td>\n",
       "      <td>...</td>\n",
       "    </tr>\n",
       "    <tr>\n",
       "      <th>7171</th>\n",
       "      <td>Zimbabwe</td>\n",
       "      <td>1994</td>\n",
       "      <td>2603.927369</td>\n",
       "    </tr>\n",
       "    <tr>\n",
       "      <th>7172</th>\n",
       "      <td>Zimbabwe</td>\n",
       "      <td>1993</td>\n",
       "      <td>2420.092791</td>\n",
       "    </tr>\n",
       "    <tr>\n",
       "      <th>7173</th>\n",
       "      <td>Zimbabwe</td>\n",
       "      <td>1992</td>\n",
       "      <td>2437.152908</td>\n",
       "    </tr>\n",
       "    <tr>\n",
       "      <th>7174</th>\n",
       "      <td>Zimbabwe</td>\n",
       "      <td>1991</td>\n",
       "      <td>2733.696626</td>\n",
       "    </tr>\n",
       "    <tr>\n",
       "      <th>7175</th>\n",
       "      <td>Zimbabwe</td>\n",
       "      <td>1990</td>\n",
       "      <td>2652.129209</td>\n",
       "    </tr>\n",
       "  </tbody>\n",
       "</table>\n",
       "<p>7176 rows × 3 columns</p>\n",
       "</div>"
      ],
      "text/plain": [
       "          Country  Year  GDP_Per_Capita\n",
       "0     Afghanistan  2020     1970.560169\n",
       "1     Afghanistan  2019     2065.036235\n",
       "2     Afghanistan  2018     2033.804389\n",
       "3     Afghanistan  2017     2058.400221\n",
       "4     Afghanistan  2016     2057.067978\n",
       "...           ...   ...             ...\n",
       "7171     Zimbabwe  1994     2603.927369\n",
       "7172     Zimbabwe  1993     2420.092791\n",
       "7173     Zimbabwe  1992     2437.152908\n",
       "7174     Zimbabwe  1991     2733.696626\n",
       "7175     Zimbabwe  1990     2652.129209\n",
       "\n",
       "[7176 rows x 3 columns]"
      ]
     },
     "execution_count": 189,
     "metadata": {},
     "output_type": "execute_result"
    }
   ],
   "source": [
    "gdp_df1"
   ]
  },
  {
   "cell_type": "code",
   "execution_count": 190,
   "id": "e89c7cbd",
   "metadata": {},
   "outputs": [
    {
     "data": {
      "text/html": [
       "<div>\n",
       "<style scoped>\n",
       "    .dataframe tbody tr th:only-of-type {\n",
       "        vertical-align: middle;\n",
       "    }\n",
       "\n",
       "    .dataframe tbody tr th {\n",
       "        vertical-align: top;\n",
       "    }\n",
       "\n",
       "    .dataframe thead th {\n",
       "        text-align: right;\n",
       "    }\n",
       "</style>\n",
       "<table border=\"1\" class=\"dataframe\">\n",
       "  <thead>\n",
       "    <tr style=\"text-align: right;\">\n",
       "      <th></th>\n",
       "      <th>Country</th>\n",
       "      <th>Year</th>\n",
       "      <th>Internet_Users_Pct</th>\n",
       "    </tr>\n",
       "  </thead>\n",
       "  <tbody>\n",
       "    <tr>\n",
       "      <th>0</th>\n",
       "      <td>Afghanistan</td>\n",
       "      <td>2014</td>\n",
       "      <td>6.390000</td>\n",
       "    </tr>\n",
       "    <tr>\n",
       "      <th>1</th>\n",
       "      <td>Afghanistan</td>\n",
       "      <td>2013</td>\n",
       "      <td>5.900000</td>\n",
       "    </tr>\n",
       "    <tr>\n",
       "      <th>2</th>\n",
       "      <td>Afghanistan</td>\n",
       "      <td>2012</td>\n",
       "      <td>5.454545</td>\n",
       "    </tr>\n",
       "    <tr>\n",
       "      <th>3</th>\n",
       "      <td>Afghanistan</td>\n",
       "      <td>2011</td>\n",
       "      <td>5.000000</td>\n",
       "    </tr>\n",
       "    <tr>\n",
       "      <th>4</th>\n",
       "      <td>Afghanistan</td>\n",
       "      <td>2010</td>\n",
       "      <td>4.000000</td>\n",
       "    </tr>\n",
       "    <tr>\n",
       "      <th>...</th>\n",
       "      <td>...</td>\n",
       "      <td>...</td>\n",
       "      <td>...</td>\n",
       "    </tr>\n",
       "    <tr>\n",
       "      <th>4490</th>\n",
       "      <td>Zimbabwe</td>\n",
       "      <td>1997</td>\n",
       "      <td>0.033080</td>\n",
       "    </tr>\n",
       "    <tr>\n",
       "      <th>4491</th>\n",
       "      <td>Zimbabwe</td>\n",
       "      <td>1996</td>\n",
       "      <td>0.016790</td>\n",
       "    </tr>\n",
       "    <tr>\n",
       "      <th>4492</th>\n",
       "      <td>Zimbabwe</td>\n",
       "      <td>1995</td>\n",
       "      <td>0.007684</td>\n",
       "    </tr>\n",
       "    <tr>\n",
       "      <th>4493</th>\n",
       "      <td>Zimbabwe</td>\n",
       "      <td>1994</td>\n",
       "      <td>0.001739</td>\n",
       "    </tr>\n",
       "    <tr>\n",
       "      <th>4494</th>\n",
       "      <td>Zimbabwe</td>\n",
       "      <td>1990</td>\n",
       "      <td>0.000000</td>\n",
       "    </tr>\n",
       "  </tbody>\n",
       "</table>\n",
       "<p>4495 rows × 3 columns</p>\n",
       "</div>"
      ],
      "text/plain": [
       "          Country  Year  Internet_Users_Pct\n",
       "0     Afghanistan  2014            6.390000\n",
       "1     Afghanistan  2013            5.900000\n",
       "2     Afghanistan  2012            5.454545\n",
       "3     Afghanistan  2011            5.000000\n",
       "4     Afghanistan  2010            4.000000\n",
       "...           ...   ...                 ...\n",
       "4490     Zimbabwe  1997            0.033080\n",
       "4491     Zimbabwe  1996            0.016790\n",
       "4492     Zimbabwe  1995            0.007684\n",
       "4493     Zimbabwe  1994            0.001739\n",
       "4494     Zimbabwe  1990            0.000000\n",
       "\n",
       "[4495 rows x 3 columns]"
      ]
     },
     "execution_count": 190,
     "metadata": {},
     "output_type": "execute_result"
    }
   ],
   "source": [
    "interdf"
   ]
  },
  {
   "cell_type": "code",
   "execution_count": 208,
   "id": "36299e92",
   "metadata": {},
   "outputs": [
    {
     "data": {
      "text/html": [
       "<div>\n",
       "<style scoped>\n",
       "    .dataframe tbody tr th:only-of-type {\n",
       "        vertical-align: middle;\n",
       "    }\n",
       "\n",
       "    .dataframe tbody tr th {\n",
       "        vertical-align: top;\n",
       "    }\n",
       "\n",
       "    .dataframe thead th {\n",
       "        text-align: right;\n",
       "    }\n",
       "</style>\n",
       "<table border=\"1\" class=\"dataframe\">\n",
       "  <thead>\n",
       "    <tr style=\"text-align: right;\">\n",
       "      <th></th>\n",
       "      <th>Country</th>\n",
       "      <th>Year</th>\n",
       "      <th>GDP_Per_Capita</th>\n",
       "      <th>Internet_Users_Pct</th>\n",
       "    </tr>\n",
       "  </thead>\n",
       "  <tbody>\n",
       "    <tr>\n",
       "      <th>0</th>\n",
       "      <td>Afghanistan</td>\n",
       "      <td>2020</td>\n",
       "      <td>1970.560169</td>\n",
       "      <td>NaN</td>\n",
       "    </tr>\n",
       "    <tr>\n",
       "      <th>1</th>\n",
       "      <td>Afghanistan</td>\n",
       "      <td>2019</td>\n",
       "      <td>2065.036235</td>\n",
       "      <td>NaN</td>\n",
       "    </tr>\n",
       "    <tr>\n",
       "      <th>2</th>\n",
       "      <td>Afghanistan</td>\n",
       "      <td>2018</td>\n",
       "      <td>2033.804389</td>\n",
       "      <td>NaN</td>\n",
       "    </tr>\n",
       "    <tr>\n",
       "      <th>3</th>\n",
       "      <td>Afghanistan</td>\n",
       "      <td>2017</td>\n",
       "      <td>2058.400221</td>\n",
       "      <td>NaN</td>\n",
       "    </tr>\n",
       "    <tr>\n",
       "      <th>4</th>\n",
       "      <td>Afghanistan</td>\n",
       "      <td>2016</td>\n",
       "      <td>2057.067978</td>\n",
       "      <td>NaN</td>\n",
       "    </tr>\n",
       "    <tr>\n",
       "      <th>...</th>\n",
       "      <td>...</td>\n",
       "      <td>...</td>\n",
       "      <td>...</td>\n",
       "      <td>...</td>\n",
       "    </tr>\n",
       "    <tr>\n",
       "      <th>8251</th>\n",
       "      <td>Yemen</td>\n",
       "      <td>1999</td>\n",
       "      <td>NaN</td>\n",
       "      <td>0.056629</td>\n",
       "    </tr>\n",
       "    <tr>\n",
       "      <th>8252</th>\n",
       "      <td>Yemen</td>\n",
       "      <td>1998</td>\n",
       "      <td>NaN</td>\n",
       "      <td>0.023323</td>\n",
       "    </tr>\n",
       "    <tr>\n",
       "      <th>8253</th>\n",
       "      <td>Yemen</td>\n",
       "      <td>1997</td>\n",
       "      <td>NaN</td>\n",
       "      <td>0.015025</td>\n",
       "    </tr>\n",
       "    <tr>\n",
       "      <th>8254</th>\n",
       "      <td>Yemen</td>\n",
       "      <td>1996</td>\n",
       "      <td>NaN</td>\n",
       "      <td>0.000621</td>\n",
       "    </tr>\n",
       "    <tr>\n",
       "      <th>8255</th>\n",
       "      <td>Yemen</td>\n",
       "      <td>1990</td>\n",
       "      <td>NaN</td>\n",
       "      <td>0.000000</td>\n",
       "    </tr>\n",
       "  </tbody>\n",
       "</table>\n",
       "<p>8256 rows × 4 columns</p>\n",
       "</div>"
      ],
      "text/plain": [
       "          Country  Year  GDP_Per_Capita  Internet_Users_Pct\n",
       "0     Afghanistan  2020     1970.560169                 NaN\n",
       "1     Afghanistan  2019     2065.036235                 NaN\n",
       "2     Afghanistan  2018     2033.804389                 NaN\n",
       "3     Afghanistan  2017     2058.400221                 NaN\n",
       "4     Afghanistan  2016     2057.067978                 NaN\n",
       "...           ...   ...             ...                 ...\n",
       "8251        Yemen  1999             NaN            0.056629\n",
       "8252        Yemen  1998             NaN            0.023323\n",
       "8253        Yemen  1997             NaN            0.015025\n",
       "8254        Yemen  1996             NaN            0.000621\n",
       "8255        Yemen  1990             NaN            0.000000\n",
       "\n",
       "[8256 rows x 4 columns]"
      ]
     },
     "execution_count": 208,
     "metadata": {},
     "output_type": "execute_result"
    }
   ],
   "source": [
    "pd.merge(gdp_df1, interdf, left_on=['Country','Year'], right_on=['Country','Year'], how = 'outer')"
   ]
  },
  {
   "cell_type": "code",
   "execution_count": 202,
   "id": "fa185c15",
   "metadata": {},
   "outputs": [
    {
     "data": {
      "text/plain": [
       "Country                object\n",
       "Year                    int32\n",
       "Internet_Users_Pct    float64\n",
       "dtype: object"
      ]
     },
     "execution_count": 202,
     "metadata": {},
     "output_type": "execute_result"
    }
   ],
   "source": [
    "interdf.dtypes"
   ]
  },
  {
   "cell_type": "code",
   "execution_count": 199,
   "id": "d07868d5",
   "metadata": {},
   "outputs": [
    {
     "data": {
      "text/plain": [
       "Country            object\n",
       "Year                int64\n",
       "GDP_Per_Capita    float64\n",
       "dtype: object"
      ]
     },
     "execution_count": 199,
     "metadata": {},
     "output_type": "execute_result"
    }
   ],
   "source": [
    "gdp_df1.dtypes"
   ]
  },
  {
   "cell_type": "code",
   "execution_count": 201,
   "id": "fc29e596",
   "metadata": {},
   "outputs": [],
   "source": [
    "interdf['Year'] = interdf['Year'].astype(int)"
   ]
  },
  {
   "cell_type": "code",
   "execution_count": 209,
   "id": "82b09343",
   "metadata": {},
   "outputs": [],
   "source": [
    "gdp_and_internet_use = (pd.merge(gdp_df1, interdf, left_on=['Country','Year'], right_on=['Country','Year'], how = 'outer'))"
   ]
  },
  {
   "cell_type": "code",
   "execution_count": 211,
   "id": "f64001cb",
   "metadata": {},
   "outputs": [
    {
     "data": {
      "text/html": [
       "<div>\n",
       "<style scoped>\n",
       "    .dataframe tbody tr th:only-of-type {\n",
       "        vertical-align: middle;\n",
       "    }\n",
       "\n",
       "    .dataframe tbody tr th {\n",
       "        vertical-align: top;\n",
       "    }\n",
       "\n",
       "    .dataframe thead th {\n",
       "        text-align: right;\n",
       "    }\n",
       "</style>\n",
       "<table border=\"1\" class=\"dataframe\">\n",
       "  <thead>\n",
       "    <tr style=\"text-align: right;\">\n",
       "      <th></th>\n",
       "      <th>Country</th>\n",
       "      <th>Year</th>\n",
       "      <th>GDP_Per_Capita</th>\n",
       "      <th>Internet_Users_Pct</th>\n",
       "    </tr>\n",
       "  </thead>\n",
       "  <tbody>\n",
       "    <tr>\n",
       "      <th>8251</th>\n",
       "      <td>Yemen</td>\n",
       "      <td>1999</td>\n",
       "      <td>NaN</td>\n",
       "      <td>0.056629</td>\n",
       "    </tr>\n",
       "    <tr>\n",
       "      <th>8252</th>\n",
       "      <td>Yemen</td>\n",
       "      <td>1998</td>\n",
       "      <td>NaN</td>\n",
       "      <td>0.023323</td>\n",
       "    </tr>\n",
       "    <tr>\n",
       "      <th>8253</th>\n",
       "      <td>Yemen</td>\n",
       "      <td>1997</td>\n",
       "      <td>NaN</td>\n",
       "      <td>0.015025</td>\n",
       "    </tr>\n",
       "    <tr>\n",
       "      <th>8254</th>\n",
       "      <td>Yemen</td>\n",
       "      <td>1996</td>\n",
       "      <td>NaN</td>\n",
       "      <td>0.000621</td>\n",
       "    </tr>\n",
       "    <tr>\n",
       "      <th>8255</th>\n",
       "      <td>Yemen</td>\n",
       "      <td>1990</td>\n",
       "      <td>NaN</td>\n",
       "      <td>0.000000</td>\n",
       "    </tr>\n",
       "  </tbody>\n",
       "</table>\n",
       "</div>"
      ],
      "text/plain": [
       "     Country  Year  GDP_Per_Capita  Internet_Users_Pct\n",
       "8251   Yemen  1999             NaN            0.056629\n",
       "8252   Yemen  1998             NaN            0.023323\n",
       "8253   Yemen  1997             NaN            0.015025\n",
       "8254   Yemen  1996             NaN            0.000621\n",
       "8255   Yemen  1990             NaN            0.000000"
      ]
     },
     "execution_count": 211,
     "metadata": {},
     "output_type": "execute_result"
    }
   ],
   "source": [
    "gdp_and_internet_use.tail()"
   ]
  },
  {
   "cell_type": "markdown",
   "id": "4e9d9b83",
   "metadata": {},
   "source": [
    "21.Find the three countries with the highest internet users percentage in 2014."
   ]
  },
  {
   "cell_type": "code",
   "execution_count": 213,
   "id": "1712ea35",
   "metadata": {},
   "outputs": [
    {
     "data": {
      "text/html": [
       "<div>\n",
       "<style scoped>\n",
       "    .dataframe tbody tr th:only-of-type {\n",
       "        vertical-align: middle;\n",
       "    }\n",
       "\n",
       "    .dataframe tbody tr th {\n",
       "        vertical-align: top;\n",
       "    }\n",
       "\n",
       "    .dataframe thead th {\n",
       "        text-align: right;\n",
       "    }\n",
       "</style>\n",
       "<table border=\"1\" class=\"dataframe\">\n",
       "  <thead>\n",
       "    <tr style=\"text-align: right;\">\n",
       "      <th></th>\n",
       "      <th>Country</th>\n",
       "      <th>Year</th>\n",
       "      <th>GDP_Per_Capita</th>\n",
       "      <th>Internet_Users_Pct</th>\n",
       "    </tr>\n",
       "  </thead>\n",
       "  <tbody>\n",
       "    <tr>\n",
       "      <th>6</th>\n",
       "      <td>Afghanistan</td>\n",
       "      <td>2014</td>\n",
       "      <td>2102.384604</td>\n",
       "      <td>6.39</td>\n",
       "    </tr>\n",
       "    <tr>\n",
       "      <th>25</th>\n",
       "      <td>Africa Eastern and Southern</td>\n",
       "      <td>2014</td>\n",
       "      <td>3677.319414</td>\n",
       "      <td>NaN</td>\n",
       "    </tr>\n",
       "    <tr>\n",
       "      <th>56</th>\n",
       "      <td>Africa Western and Central</td>\n",
       "      <td>2014</td>\n",
       "      <td>4215.646000</td>\n",
       "      <td>NaN</td>\n",
       "    </tr>\n",
       "    <tr>\n",
       "      <th>87</th>\n",
       "      <td>Albania</td>\n",
       "      <td>2014</td>\n",
       "      <td>11586.833878</td>\n",
       "      <td>60.10</td>\n",
       "    </tr>\n",
       "    <tr>\n",
       "      <th>118</th>\n",
       "      <td>Algeria</td>\n",
       "      <td>2014</td>\n",
       "      <td>11512.690472</td>\n",
       "      <td>18.09</td>\n",
       "    </tr>\n",
       "    <tr>\n",
       "      <th>...</th>\n",
       "      <td>...</td>\n",
       "      <td>...</td>\n",
       "      <td>...</td>\n",
       "      <td>...</td>\n",
       "    </tr>\n",
       "    <tr>\n",
       "      <th>8147</th>\n",
       "      <td>Turkey</td>\n",
       "      <td>2014</td>\n",
       "      <td>NaN</td>\n",
       "      <td>51.04</td>\n",
       "    </tr>\n",
       "    <tr>\n",
       "      <th>8170</th>\n",
       "      <td>Venezuela</td>\n",
       "      <td>2014</td>\n",
       "      <td>NaN</td>\n",
       "      <td>57.00</td>\n",
       "    </tr>\n",
       "    <tr>\n",
       "      <th>8194</th>\n",
       "      <td>Viet Nam</td>\n",
       "      <td>2014</td>\n",
       "      <td>NaN</td>\n",
       "      <td>48.31</td>\n",
       "    </tr>\n",
       "    <tr>\n",
       "      <th>8214</th>\n",
       "      <td>Virgin Islands (U.S.)</td>\n",
       "      <td>2014</td>\n",
       "      <td>NaN</td>\n",
       "      <td>50.07</td>\n",
       "    </tr>\n",
       "    <tr>\n",
       "      <th>8236</th>\n",
       "      <td>Yemen</td>\n",
       "      <td>2014</td>\n",
       "      <td>NaN</td>\n",
       "      <td>22.55</td>\n",
       "    </tr>\n",
       "  </tbody>\n",
       "</table>\n",
       "<p>281 rows × 4 columns</p>\n",
       "</div>"
      ],
      "text/plain": [
       "                          Country  Year  GDP_Per_Capita  Internet_Users_Pct\n",
       "6                     Afghanistan  2014     2102.384604                6.39\n",
       "25    Africa Eastern and Southern  2014     3677.319414                 NaN\n",
       "56     Africa Western and Central  2014     4215.646000                 NaN\n",
       "87                        Albania  2014    11586.833878               60.10\n",
       "118                       Algeria  2014    11512.690472               18.09\n",
       "...                           ...   ...             ...                 ...\n",
       "8147                       Turkey  2014             NaN               51.04\n",
       "8170                    Venezuela  2014             NaN               57.00\n",
       "8194                     Viet Nam  2014             NaN               48.31\n",
       "8214        Virgin Islands (U.S.)  2014             NaN               50.07\n",
       "8236                        Yemen  2014             NaN               22.55\n",
       "\n",
       "[281 rows x 4 columns]"
      ]
     },
     "execution_count": 213,
     "metadata": {},
     "output_type": "execute_result"
    }
   ],
   "source": [
    "gdp_and_internet_use.loc[gdp_and_internet_use.Year == 2014]"
   ]
  },
  {
   "cell_type": "code",
   "execution_count": 218,
   "id": "1778ee0f",
   "metadata": {},
   "outputs": [
    {
     "ename": "TypeError",
     "evalue": "unhashable type: 'list'",
     "output_type": "error",
     "traceback": [
      "\u001b[1;31m---------------------------------------------------------------------------\u001b[0m",
      "\u001b[1;31mTypeError\u001b[0m                                 Traceback (most recent call last)",
      "\u001b[1;32m~\\AppData\\Local\\Temp\\ipykernel_24104\\2196856918.py\u001b[0m in \u001b[0;36m?\u001b[1;34m()\u001b[0m\n\u001b[1;32m----> 1\u001b[1;33m \u001b[0mgdp_and_internet_use\u001b[0m\u001b[1;33m.\u001b[0m\u001b[0mloc\u001b[0m\u001b[1;33m[\u001b[0m\u001b[0mgdp_and_internet_use\u001b[0m\u001b[1;33m.\u001b[0m\u001b[0mYear\u001b[0m \u001b[1;33m==\u001b[0m \u001b[1;36m2014\u001b[0m\u001b[1;33m]\u001b[0m\u001b[1;33m.\u001b[0m\u001b[0mmax\u001b[0m\u001b[1;33m(\u001b[0m\u001b[1;33m[\u001b[0m\u001b[1;34m'Internet_Users_Pct'\u001b[0m\u001b[1;33m]\u001b[0m\u001b[1;33m)\u001b[0m\u001b[1;33m\u001b[0m\u001b[1;33m\u001b[0m\u001b[0m\n\u001b[0m",
      "\u001b[1;32m~\\anaconda3\\Lib\\site-packages\\pandas\\core\\generic.py\u001b[0m in \u001b[0;36m?\u001b[1;34m(self, axis, skipna, numeric_only, **kwargs)\u001b[0m\n\u001b[0;32m  11642\u001b[0m             \u001b[0mskipna\u001b[0m\u001b[1;33m:\u001b[0m \u001b[0mbool_t\u001b[0m \u001b[1;33m=\u001b[0m \u001b[1;32mTrue\u001b[0m\u001b[1;33m,\u001b[0m\u001b[1;33m\u001b[0m\u001b[1;33m\u001b[0m\u001b[0m\n\u001b[0;32m  11643\u001b[0m             \u001b[0mnumeric_only\u001b[0m\u001b[1;33m:\u001b[0m \u001b[0mbool_t\u001b[0m \u001b[1;33m=\u001b[0m \u001b[1;32mFalse\u001b[0m\u001b[1;33m,\u001b[0m\u001b[1;33m\u001b[0m\u001b[1;33m\u001b[0m\u001b[0m\n\u001b[0;32m  11644\u001b[0m             \u001b[1;33m**\u001b[0m\u001b[0mkwargs\u001b[0m\u001b[1;33m,\u001b[0m\u001b[1;33m\u001b[0m\u001b[1;33m\u001b[0m\u001b[0m\n\u001b[0;32m  11645\u001b[0m         ):\n\u001b[1;32m> 11646\u001b[1;33m             \u001b[1;32mreturn\u001b[0m \u001b[0mNDFrame\u001b[0m\u001b[1;33m.\u001b[0m\u001b[0mmax\u001b[0m\u001b[1;33m(\u001b[0m\u001b[0mself\u001b[0m\u001b[1;33m,\u001b[0m \u001b[0maxis\u001b[0m\u001b[1;33m,\u001b[0m \u001b[0mskipna\u001b[0m\u001b[1;33m,\u001b[0m \u001b[0mnumeric_only\u001b[0m\u001b[1;33m,\u001b[0m \u001b[1;33m**\u001b[0m\u001b[0mkwargs\u001b[0m\u001b[1;33m)\u001b[0m\u001b[1;33m\u001b[0m\u001b[1;33m\u001b[0m\u001b[0m\n\u001b[0m",
      "\u001b[1;32m~\\anaconda3\\Lib\\site-packages\\pandas\\core\\generic.py\u001b[0m in \u001b[0;36m?\u001b[1;34m(self, axis, skipna, numeric_only, **kwargs)\u001b[0m\n\u001b[0;32m  11181\u001b[0m         \u001b[0mskipna\u001b[0m\u001b[1;33m:\u001b[0m \u001b[0mbool_t\u001b[0m \u001b[1;33m=\u001b[0m \u001b[1;32mTrue\u001b[0m\u001b[1;33m,\u001b[0m\u001b[1;33m\u001b[0m\u001b[1;33m\u001b[0m\u001b[0m\n\u001b[0;32m  11182\u001b[0m         \u001b[0mnumeric_only\u001b[0m\u001b[1;33m:\u001b[0m \u001b[0mbool_t\u001b[0m \u001b[1;33m=\u001b[0m \u001b[1;32mFalse\u001b[0m\u001b[1;33m,\u001b[0m\u001b[1;33m\u001b[0m\u001b[1;33m\u001b[0m\u001b[0m\n\u001b[0;32m  11183\u001b[0m         \u001b[1;33m**\u001b[0m\u001b[0mkwargs\u001b[0m\u001b[1;33m,\u001b[0m\u001b[1;33m\u001b[0m\u001b[1;33m\u001b[0m\u001b[0m\n\u001b[0;32m  11184\u001b[0m     ):\n\u001b[1;32m> 11185\u001b[1;33m         return self._stat_function(\n\u001b[0m\u001b[0;32m  11186\u001b[0m             \u001b[1;34m\"max\"\u001b[0m\u001b[1;33m,\u001b[0m\u001b[1;33m\u001b[0m\u001b[1;33m\u001b[0m\u001b[0m\n\u001b[0;32m  11187\u001b[0m             \u001b[0mnanops\u001b[0m\u001b[1;33m.\u001b[0m\u001b[0mnanmax\u001b[0m\u001b[1;33m,\u001b[0m\u001b[1;33m\u001b[0m\u001b[1;33m\u001b[0m\u001b[0m\n\u001b[0;32m  11188\u001b[0m             \u001b[0maxis\u001b[0m\u001b[1;33m,\u001b[0m\u001b[1;33m\u001b[0m\u001b[1;33m\u001b[0m\u001b[0m\n",
      "\u001b[1;32m~\\anaconda3\\Lib\\site-packages\\pandas\\core\\generic.py\u001b[0m in \u001b[0;36m?\u001b[1;34m(self, name, func, axis, skipna, numeric_only, **kwargs)\u001b[0m\n\u001b[0;32m  11154\u001b[0m             \u001b[0mnv\u001b[0m\u001b[1;33m.\u001b[0m\u001b[0mvalidate_stat_func\u001b[0m\u001b[1;33m(\u001b[0m\u001b[1;33m(\u001b[0m\u001b[1;33m)\u001b[0m\u001b[1;33m,\u001b[0m \u001b[0mkwargs\u001b[0m\u001b[1;33m,\u001b[0m \u001b[0mfname\u001b[0m\u001b[1;33m=\u001b[0m\u001b[0mname\u001b[0m\u001b[1;33m)\u001b[0m\u001b[1;33m\u001b[0m\u001b[1;33m\u001b[0m\u001b[0m\n\u001b[0;32m  11155\u001b[0m \u001b[1;33m\u001b[0m\u001b[0m\n\u001b[0;32m  11156\u001b[0m         \u001b[0mvalidate_bool_kwarg\u001b[0m\u001b[1;33m(\u001b[0m\u001b[0mskipna\u001b[0m\u001b[1;33m,\u001b[0m \u001b[1;34m\"skipna\"\u001b[0m\u001b[1;33m,\u001b[0m \u001b[0mnone_allowed\u001b[0m\u001b[1;33m=\u001b[0m\u001b[1;32mFalse\u001b[0m\u001b[1;33m)\u001b[0m\u001b[1;33m\u001b[0m\u001b[1;33m\u001b[0m\u001b[0m\n\u001b[0;32m  11157\u001b[0m \u001b[1;33m\u001b[0m\u001b[0m\n\u001b[1;32m> 11158\u001b[1;33m         return self._reduce(\n\u001b[0m\u001b[0;32m  11159\u001b[0m             \u001b[0mfunc\u001b[0m\u001b[1;33m,\u001b[0m \u001b[0mname\u001b[0m\u001b[1;33m=\u001b[0m\u001b[0mname\u001b[0m\u001b[1;33m,\u001b[0m \u001b[0maxis\u001b[0m\u001b[1;33m=\u001b[0m\u001b[0maxis\u001b[0m\u001b[1;33m,\u001b[0m \u001b[0mskipna\u001b[0m\u001b[1;33m=\u001b[0m\u001b[0mskipna\u001b[0m\u001b[1;33m,\u001b[0m \u001b[0mnumeric_only\u001b[0m\u001b[1;33m=\u001b[0m\u001b[0mnumeric_only\u001b[0m\u001b[1;33m\u001b[0m\u001b[1;33m\u001b[0m\u001b[0m\n\u001b[0;32m  11160\u001b[0m         )\n",
      "\u001b[1;32m~\\anaconda3\\Lib\\site-packages\\pandas\\core\\frame.py\u001b[0m in \u001b[0;36m?\u001b[1;34m(self, op, name, axis, skipna, numeric_only, filter_type, **kwds)\u001b[0m\n\u001b[0;32m  10464\u001b[0m         \u001b[1;32massert\u001b[0m \u001b[0mfilter_type\u001b[0m \u001b[1;32mis\u001b[0m \u001b[1;32mNone\u001b[0m \u001b[1;32mor\u001b[0m \u001b[0mfilter_type\u001b[0m \u001b[1;33m==\u001b[0m \u001b[1;34m\"bool\"\u001b[0m\u001b[1;33m,\u001b[0m \u001b[0mfilter_type\u001b[0m\u001b[1;33m\u001b[0m\u001b[1;33m\u001b[0m\u001b[0m\n\u001b[0;32m  10465\u001b[0m         \u001b[0mout_dtype\u001b[0m \u001b[1;33m=\u001b[0m \u001b[1;34m\"bool\"\u001b[0m \u001b[1;32mif\u001b[0m \u001b[0mfilter_type\u001b[0m \u001b[1;33m==\u001b[0m \u001b[1;34m\"bool\"\u001b[0m \u001b[1;32melse\u001b[0m \u001b[1;32mNone\u001b[0m\u001b[1;33m\u001b[0m\u001b[1;33m\u001b[0m\u001b[0m\n\u001b[0;32m  10466\u001b[0m \u001b[1;33m\u001b[0m\u001b[0m\n\u001b[0;32m  10467\u001b[0m         \u001b[1;32mif\u001b[0m \u001b[0maxis\u001b[0m \u001b[1;32mis\u001b[0m \u001b[1;32mnot\u001b[0m \u001b[1;32mNone\u001b[0m\u001b[1;33m:\u001b[0m\u001b[1;33m\u001b[0m\u001b[1;33m\u001b[0m\u001b[0m\n\u001b[1;32m> 10468\u001b[1;33m             \u001b[0maxis\u001b[0m \u001b[1;33m=\u001b[0m \u001b[0mself\u001b[0m\u001b[1;33m.\u001b[0m\u001b[0m_get_axis_number\u001b[0m\u001b[1;33m(\u001b[0m\u001b[0maxis\u001b[0m\u001b[1;33m)\u001b[0m\u001b[1;33m\u001b[0m\u001b[1;33m\u001b[0m\u001b[0m\n\u001b[0m\u001b[0;32m  10469\u001b[0m \u001b[1;33m\u001b[0m\u001b[0m\n\u001b[0;32m  10470\u001b[0m         \u001b[1;32mdef\u001b[0m \u001b[0mfunc\u001b[0m\u001b[1;33m(\u001b[0m\u001b[0mvalues\u001b[0m\u001b[1;33m:\u001b[0m \u001b[0mnp\u001b[0m\u001b[1;33m.\u001b[0m\u001b[0mndarray\u001b[0m\u001b[1;33m)\u001b[0m\u001b[1;33m:\u001b[0m\u001b[1;33m\u001b[0m\u001b[1;33m\u001b[0m\u001b[0m\n\u001b[0;32m  10471\u001b[0m             \u001b[1;31m# We only use this in the case that operates on self.values\u001b[0m\u001b[1;33m\u001b[0m\u001b[1;33m\u001b[0m\u001b[0m\n",
      "\u001b[1;32m~\\anaconda3\\Lib\\site-packages\\pandas\\core\\generic.py\u001b[0m in \u001b[0;36m?\u001b[1;34m(cls, axis)\u001b[0m\n\u001b[0;32m    510\u001b[0m     \u001b[1;33m@\u001b[0m\u001b[0mclassmethod\u001b[0m\u001b[1;33m\u001b[0m\u001b[1;33m\u001b[0m\u001b[0m\n\u001b[0;32m    511\u001b[0m     \u001b[1;32mdef\u001b[0m \u001b[0m_get_axis_number\u001b[0m\u001b[1;33m(\u001b[0m\u001b[0mcls\u001b[0m\u001b[1;33m,\u001b[0m \u001b[0maxis\u001b[0m\u001b[1;33m:\u001b[0m \u001b[0mAxis\u001b[0m\u001b[1;33m)\u001b[0m \u001b[1;33m->\u001b[0m \u001b[0mAxisInt\u001b[0m\u001b[1;33m:\u001b[0m\u001b[1;33m\u001b[0m\u001b[1;33m\u001b[0m\u001b[0m\n\u001b[0;32m    512\u001b[0m         \u001b[1;32mtry\u001b[0m\u001b[1;33m:\u001b[0m\u001b[1;33m\u001b[0m\u001b[1;33m\u001b[0m\u001b[0m\n\u001b[0;32m    513\u001b[0m             \u001b[1;32mreturn\u001b[0m \u001b[0mcls\u001b[0m\u001b[1;33m.\u001b[0m\u001b[0m_AXIS_TO_AXIS_NUMBER\u001b[0m\u001b[1;33m[\u001b[0m\u001b[0maxis\u001b[0m\u001b[1;33m]\u001b[0m\u001b[1;33m\u001b[0m\u001b[1;33m\u001b[0m\u001b[0m\n\u001b[1;32m--> 514\u001b[1;33m         \u001b[1;32mexcept\u001b[0m \u001b[0mKeyError\u001b[0m\u001b[1;33m:\u001b[0m\u001b[1;33m\u001b[0m\u001b[1;33m\u001b[0m\u001b[0m\n\u001b[0m\u001b[0;32m    515\u001b[0m             \u001b[1;32mraise\u001b[0m \u001b[0mValueError\u001b[0m\u001b[1;33m(\u001b[0m\u001b[1;34mf\"No axis named {axis} for object type {cls.__name__}\"\u001b[0m\u001b[1;33m)\u001b[0m\u001b[1;33m\u001b[0m\u001b[1;33m\u001b[0m\u001b[0m\n",
      "\u001b[1;31mTypeError\u001b[0m: unhashable type: 'list'"
     ]
    }
   ],
   "source": [
    "gdp_and_internet_use.loc[gdp_and_internet_use.Year == 2014].max(['Internet_Users_Pct'])"
   ]
  },
  {
   "cell_type": "code",
   "execution_count": null,
   "id": "77053d02",
   "metadata": {},
   "outputs": [],
   "source": []
  }
 ],
 "metadata": {
  "kernelspec": {
   "display_name": "Python 3 (ipykernel)",
   "language": "python",
   "name": "python3"
  },
  "language_info": {
   "codemirror_mode": {
    "name": "ipython",
    "version": 3
   },
   "file_extension": ".py",
   "mimetype": "text/x-python",
   "name": "python",
   "nbconvert_exporter": "python",
   "pygments_lexer": "ipython3",
   "version": "3.11.5"
  }
 },
 "nbformat": 4,
 "nbformat_minor": 5
}
